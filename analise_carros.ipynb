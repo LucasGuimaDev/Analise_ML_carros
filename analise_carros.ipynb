{
  "cells": [
    {
      "cell_type": "code",
      "execution_count": 8,
      "metadata": {
        "id": "-pwJ4c9tBCHl"
      },
      "outputs": [],
      "source": [
        "import pandas as pd\n",
        "import numpy as np\n",
        "import sklearn\n",
        "import seaborn as sns\n",
        "import matplotlib.pyplot as plt"
      ]
    },
    {
      "cell_type": "markdown",
      "metadata": {},
      "source": [
        "## Antes de começar as análises coloque o caminho do aqruivo na célula abaixo"
      ]
    },
    {
      "cell_type": "code",
      "execution_count": 67,
      "metadata": {
        "colab": {
          "base_uri": "https://localhost:8080/"
        },
        "id": "aAFp0KiYAtk0",
        "outputId": "392d7525-7af7-4af0-de6f-a0d7604c1a41"
      },
      "outputs": [
        {
          "data": {
            "text/plain": [
              "Index(['name', 'year', 'miles', 'color', 'condition', 'price'], dtype='object')"
            ]
          },
          "execution_count": 67,
          "metadata": {},
          "output_type": "execute_result"
        }
      ],
      "source": [
        "caminho_do_arquivo = # coloque aqui o caminho do arquivo após baixá-lo\n",
        "\n",
        "df = pd.read_csv(caminho_do_arquivo)\n",
        "df.columns"
      ]
    },
    {
      "cell_type": "code",
      "execution_count": 10,
      "metadata": {
        "colab": {
          "base_uri": "https://localhost:8080/",
          "height": 206
        },
        "id": "YxShxgjmBxll",
        "outputId": "18b8a20e-15cd-4622-cb65-ee99fb255b0c"
      },
      "outputs": [
        {
          "data": {
            "text/html": [
              "<div>\n",
              "<style scoped>\n",
              "    .dataframe tbody tr th:only-of-type {\n",
              "        vertical-align: middle;\n",
              "    }\n",
              "\n",
              "    .dataframe tbody tr th {\n",
              "        vertical-align: top;\n",
              "    }\n",
              "\n",
              "    .dataframe thead th {\n",
              "        text-align: right;\n",
              "    }\n",
              "</style>\n",
              "<table border=\"1\" class=\"dataframe\">\n",
              "  <thead>\n",
              "    <tr style=\"text-align: right;\">\n",
              "      <th></th>\n",
              "      <th>name</th>\n",
              "      <th>year</th>\n",
              "      <th>miles</th>\n",
              "      <th>color</th>\n",
              "      <th>condition</th>\n",
              "      <th>price</th>\n",
              "    </tr>\n",
              "  </thead>\n",
              "  <tbody>\n",
              "    <tr>\n",
              "      <th>2835</th>\n",
              "      <td>Ford Escape</td>\n",
              "      <td>2013</td>\n",
              "      <td>98,601 miles</td>\n",
              "      <td>Silver exterior, Unknown interior</td>\n",
              "      <td>2 accidents reported, 3 Owners</td>\n",
              "      <td>$8,995</td>\n",
              "    </tr>\n",
              "    <tr>\n",
              "      <th>2836</th>\n",
              "      <td>Mercedes-Benz R-Class</td>\n",
              "      <td>2009</td>\n",
              "      <td>120,694 miles</td>\n",
              "      <td>Black exterior, Black interior</td>\n",
              "      <td>1 accident reported, 3 Owners</td>\n",
              "      <td>$9,495</td>\n",
              "    </tr>\n",
              "    <tr>\n",
              "      <th>2837</th>\n",
              "      <td>Mercedes-Benz GLC</td>\n",
              "      <td>2022</td>\n",
              "      <td>27,894 miles</td>\n",
              "      <td>Gray exterior, Gray interior</td>\n",
              "      <td>No accidents reported, 2 Owners</td>\n",
              "      <td>$29,999</td>\n",
              "    </tr>\n",
              "    <tr>\n",
              "      <th>2838</th>\n",
              "      <td>Honda CR-V</td>\n",
              "      <td>2021</td>\n",
              "      <td>50,220 miles</td>\n",
              "      <td>Gray exterior, Unknown interior</td>\n",
              "      <td>No accidents reported, 1 Owner</td>\n",
              "      <td>$22,992</td>\n",
              "    </tr>\n",
              "    <tr>\n",
              "      <th>2839</th>\n",
              "      <td>Honda Civic</td>\n",
              "      <td>2021</td>\n",
              "      <td>26,510 miles</td>\n",
              "      <td>White exterior, Black interior</td>\n",
              "      <td>No accidents reported, 1 Owner</td>\n",
              "      <td>$24,135</td>\n",
              "    </tr>\n",
              "  </tbody>\n",
              "</table>\n",
              "</div>"
            ],
            "text/plain": [
              "                       name  year          miles  \\\n",
              "2835            Ford Escape  2013   98,601 miles   \n",
              "2836  Mercedes-Benz R-Class  2009  120,694 miles   \n",
              "2837      Mercedes-Benz GLC  2022   27,894 miles   \n",
              "2838             Honda CR-V  2021   50,220 miles   \n",
              "2839            Honda Civic  2021   26,510 miles   \n",
              "\n",
              "                                  color                        condition  \\\n",
              "2835  Silver exterior, Unknown interior   2 accidents reported, 3 Owners   \n",
              "2836     Black exterior, Black interior    1 accident reported, 3 Owners   \n",
              "2837       Gray exterior, Gray interior  No accidents reported, 2 Owners   \n",
              "2838    Gray exterior, Unknown interior   No accidents reported, 1 Owner   \n",
              "2839     White exterior, Black interior   No accidents reported, 1 Owner   \n",
              "\n",
              "        price  \n",
              "2835   $8,995  \n",
              "2836   $9,495  \n",
              "2837  $29,999  \n",
              "2838  $22,992  \n",
              "2839  $24,135  "
            ]
          },
          "execution_count": 10,
          "metadata": {},
          "output_type": "execute_result"
        }
      ],
      "source": [
        "df.tail()"
      ]
    },
    {
      "cell_type": "code",
      "execution_count": 11,
      "metadata": {
        "colab": {
          "base_uri": "https://localhost:8080/"
        },
        "id": "vVIOcZdSG1r4",
        "outputId": "2635f042-7c27-45b3-b7b9-37843d85ca4e"
      },
      "outputs": [
        {
          "name": "stdout",
          "output_type": "stream",
          "text": [
            "<class 'pandas.core.frame.DataFrame'>\n",
            "RangeIndex: 2840 entries, 0 to 2839\n",
            "Data columns (total 6 columns):\n",
            " #   Column     Non-Null Count  Dtype \n",
            "---  ------     --------------  ----- \n",
            " 0   name       2840 non-null   object\n",
            " 1   year       2840 non-null   int64 \n",
            " 2   miles      2840 non-null   object\n",
            " 3   color      2840 non-null   object\n",
            " 4   condition  2840 non-null   object\n",
            " 5   price      2840 non-null   object\n",
            "dtypes: int64(1), object(5)\n",
            "memory usage: 133.2+ KB\n"
          ]
        }
      ],
      "source": [
        "df.info()"
      ]
    },
    {
      "cell_type": "code",
      "execution_count": 12,
      "metadata": {
        "colab": {
          "base_uri": "https://localhost:8080/",
          "height": 424
        },
        "id": "hFvYoIOQDfm5",
        "outputId": "cc2507cd-7520-495e-94bd-617a8676147b"
      },
      "outputs": [
        {
          "data": {
            "text/html": [
              "<div>\n",
              "<style scoped>\n",
              "    .dataframe tbody tr th:only-of-type {\n",
              "        vertical-align: middle;\n",
              "    }\n",
              "\n",
              "    .dataframe tbody tr th {\n",
              "        vertical-align: top;\n",
              "    }\n",
              "\n",
              "    .dataframe thead th {\n",
              "        text-align: right;\n",
              "    }\n",
              "</style>\n",
              "<table border=\"1\" class=\"dataframe\">\n",
              "  <thead>\n",
              "    <tr style=\"text-align: right;\">\n",
              "      <th></th>\n",
              "      <th>name</th>\n",
              "      <th>year</th>\n",
              "      <th>miles</th>\n",
              "      <th>color</th>\n",
              "      <th>condition</th>\n",
              "      <th>price</th>\n",
              "    </tr>\n",
              "  </thead>\n",
              "  <tbody>\n",
              "    <tr>\n",
              "      <th>0</th>\n",
              "      <td>Kia Forte</td>\n",
              "      <td>2022</td>\n",
              "      <td>41,406 miles</td>\n",
              "      <td>Gray exterior, Black interior</td>\n",
              "      <td>No accidents reported, 1 Owner</td>\n",
              "      <td>$15,988</td>\n",
              "    </tr>\n",
              "    <tr>\n",
              "      <th>1</th>\n",
              "      <td>Chevrolet Silverado 1500</td>\n",
              "      <td>2021</td>\n",
              "      <td>15,138 miles</td>\n",
              "      <td>White exterior, Black interior</td>\n",
              "      <td>1 accident reported, 1 Owner</td>\n",
              "      <td>$38,008</td>\n",
              "    </tr>\n",
              "    <tr>\n",
              "      <th>2</th>\n",
              "      <td>Toyota RAV4</td>\n",
              "      <td>2022</td>\n",
              "      <td>32,879 miles</td>\n",
              "      <td>Silver exterior, Unknown interior</td>\n",
              "      <td>No accidents reported, 1 Owner</td>\n",
              "      <td>$24,988</td>\n",
              "    </tr>\n",
              "    <tr>\n",
              "      <th>3</th>\n",
              "      <td>Honda Civic</td>\n",
              "      <td>2020</td>\n",
              "      <td>37,190 miles</td>\n",
              "      <td>Blue exterior, Black interior</td>\n",
              "      <td>No accidents reported, 1 Owner</td>\n",
              "      <td>$18,998</td>\n",
              "    </tr>\n",
              "    <tr>\n",
              "      <th>4</th>\n",
              "      <td>Honda Civic</td>\n",
              "      <td>2020</td>\n",
              "      <td>27,496 miles</td>\n",
              "      <td>Black exterior, Black interior</td>\n",
              "      <td>No accidents reported, 1 Owner</td>\n",
              "      <td>$19,498</td>\n",
              "    </tr>\n",
              "    <tr>\n",
              "      <th>...</th>\n",
              "      <td>...</td>\n",
              "      <td>...</td>\n",
              "      <td>...</td>\n",
              "      <td>...</td>\n",
              "      <td>...</td>\n",
              "      <td>...</td>\n",
              "    </tr>\n",
              "    <tr>\n",
              "      <th>2835</th>\n",
              "      <td>Ford Escape</td>\n",
              "      <td>2013</td>\n",
              "      <td>98,601 miles</td>\n",
              "      <td>Silver exterior, Unknown interior</td>\n",
              "      <td>2 accidents reported, 3 Owners</td>\n",
              "      <td>$8,995</td>\n",
              "    </tr>\n",
              "    <tr>\n",
              "      <th>2836</th>\n",
              "      <td>Mercedes-Benz R-Class</td>\n",
              "      <td>2009</td>\n",
              "      <td>120,694 miles</td>\n",
              "      <td>Black exterior, Black interior</td>\n",
              "      <td>1 accident reported, 3 Owners</td>\n",
              "      <td>$9,495</td>\n",
              "    </tr>\n",
              "    <tr>\n",
              "      <th>2837</th>\n",
              "      <td>Mercedes-Benz GLC</td>\n",
              "      <td>2022</td>\n",
              "      <td>27,894 miles</td>\n",
              "      <td>Gray exterior, Gray interior</td>\n",
              "      <td>No accidents reported, 2 Owners</td>\n",
              "      <td>$29,999</td>\n",
              "    </tr>\n",
              "    <tr>\n",
              "      <th>2838</th>\n",
              "      <td>Honda CR-V</td>\n",
              "      <td>2021</td>\n",
              "      <td>50,220 miles</td>\n",
              "      <td>Gray exterior, Unknown interior</td>\n",
              "      <td>No accidents reported, 1 Owner</td>\n",
              "      <td>$22,992</td>\n",
              "    </tr>\n",
              "    <tr>\n",
              "      <th>2839</th>\n",
              "      <td>Honda Civic</td>\n",
              "      <td>2021</td>\n",
              "      <td>26,510 miles</td>\n",
              "      <td>White exterior, Black interior</td>\n",
              "      <td>No accidents reported, 1 Owner</td>\n",
              "      <td>$24,135</td>\n",
              "    </tr>\n",
              "  </tbody>\n",
              "</table>\n",
              "<p>2840 rows × 6 columns</p>\n",
              "</div>"
            ],
            "text/plain": [
              "                          name  year          miles  \\\n",
              "0                    Kia Forte  2022   41,406 miles   \n",
              "1     Chevrolet Silverado 1500  2021   15,138 miles   \n",
              "2                  Toyota RAV4  2022   32,879 miles   \n",
              "3                  Honda Civic  2020   37,190 miles   \n",
              "4                  Honda Civic  2020   27,496 miles   \n",
              "...                        ...   ...            ...   \n",
              "2835               Ford Escape  2013   98,601 miles   \n",
              "2836     Mercedes-Benz R-Class  2009  120,694 miles   \n",
              "2837         Mercedes-Benz GLC  2022   27,894 miles   \n",
              "2838                Honda CR-V  2021   50,220 miles   \n",
              "2839               Honda Civic  2021   26,510 miles   \n",
              "\n",
              "                                  color                        condition  \\\n",
              "0         Gray exterior, Black interior   No accidents reported, 1 Owner   \n",
              "1        White exterior, Black interior     1 accident reported, 1 Owner   \n",
              "2     Silver exterior, Unknown interior   No accidents reported, 1 Owner   \n",
              "3         Blue exterior, Black interior   No accidents reported, 1 Owner   \n",
              "4        Black exterior, Black interior   No accidents reported, 1 Owner   \n",
              "...                                 ...                              ...   \n",
              "2835  Silver exterior, Unknown interior   2 accidents reported, 3 Owners   \n",
              "2836     Black exterior, Black interior    1 accident reported, 3 Owners   \n",
              "2837       Gray exterior, Gray interior  No accidents reported, 2 Owners   \n",
              "2838    Gray exterior, Unknown interior   No accidents reported, 1 Owner   \n",
              "2839     White exterior, Black interior   No accidents reported, 1 Owner   \n",
              "\n",
              "        price  \n",
              "0     $15,988  \n",
              "1     $38,008  \n",
              "2     $24,988  \n",
              "3     $18,998  \n",
              "4     $19,498  \n",
              "...       ...  \n",
              "2835   $8,995  \n",
              "2836   $9,495  \n",
              "2837  $29,999  \n",
              "2838  $22,992  \n",
              "2839  $24,135  \n",
              "\n",
              "[2840 rows x 6 columns]"
            ]
          },
          "execution_count": 12,
          "metadata": {},
          "output_type": "execute_result"
        }
      ],
      "source": [
        "df.dropna()"
      ]
    },
    {
      "cell_type": "code",
      "execution_count": 13,
      "metadata": {
        "colab": {
          "base_uri": "https://localhost:8080/",
          "height": 206
        },
        "id": "UPZSK_iPJd8E",
        "outputId": "0686432a-24ef-43b8-880d-b5c35b5cf108"
      },
      "outputs": [
        {
          "data": {
            "text/html": [
              "<div>\n",
              "<style scoped>\n",
              "    .dataframe tbody tr th:only-of-type {\n",
              "        vertical-align: middle;\n",
              "    }\n",
              "\n",
              "    .dataframe tbody tr th {\n",
              "        vertical-align: top;\n",
              "    }\n",
              "\n",
              "    .dataframe thead th {\n",
              "        text-align: right;\n",
              "    }\n",
              "</style>\n",
              "<table border=\"1\" class=\"dataframe\">\n",
              "  <thead>\n",
              "    <tr style=\"text-align: right;\">\n",
              "      <th></th>\n",
              "      <th>name</th>\n",
              "      <th>year</th>\n",
              "      <th>miles</th>\n",
              "      <th>color</th>\n",
              "      <th>condition</th>\n",
              "      <th>price</th>\n",
              "    </tr>\n",
              "  </thead>\n",
              "  <tbody>\n",
              "    <tr>\n",
              "      <th>2835</th>\n",
              "      <td>ford escape</td>\n",
              "      <td>2013</td>\n",
              "      <td>98,601 miles</td>\n",
              "      <td>silver exterior, unknown interior</td>\n",
              "      <td>2 accidents reported, 3 owners</td>\n",
              "      <td>$8,995</td>\n",
              "    </tr>\n",
              "    <tr>\n",
              "      <th>2836</th>\n",
              "      <td>mercedes-benz r-class</td>\n",
              "      <td>2009</td>\n",
              "      <td>120,694 miles</td>\n",
              "      <td>black exterior, black interior</td>\n",
              "      <td>1 accident reported, 3 owners</td>\n",
              "      <td>$9,495</td>\n",
              "    </tr>\n",
              "    <tr>\n",
              "      <th>2837</th>\n",
              "      <td>mercedes-benz glc</td>\n",
              "      <td>2022</td>\n",
              "      <td>27,894 miles</td>\n",
              "      <td>gray exterior, gray interior</td>\n",
              "      <td>no accidents reported, 2 owners</td>\n",
              "      <td>$29,999</td>\n",
              "    </tr>\n",
              "    <tr>\n",
              "      <th>2838</th>\n",
              "      <td>honda cr-v</td>\n",
              "      <td>2021</td>\n",
              "      <td>50,220 miles</td>\n",
              "      <td>gray exterior, unknown interior</td>\n",
              "      <td>no accidents reported, 1 owner</td>\n",
              "      <td>$22,992</td>\n",
              "    </tr>\n",
              "    <tr>\n",
              "      <th>2839</th>\n",
              "      <td>honda civic</td>\n",
              "      <td>2021</td>\n",
              "      <td>26,510 miles</td>\n",
              "      <td>white exterior, black interior</td>\n",
              "      <td>no accidents reported, 1 owner</td>\n",
              "      <td>$24,135</td>\n",
              "    </tr>\n",
              "  </tbody>\n",
              "</table>\n",
              "</div>"
            ],
            "text/plain": [
              "                       name  year          miles  \\\n",
              "2835            ford escape  2013   98,601 miles   \n",
              "2836  mercedes-benz r-class  2009  120,694 miles   \n",
              "2837      mercedes-benz glc  2022   27,894 miles   \n",
              "2838             honda cr-v  2021   50,220 miles   \n",
              "2839            honda civic  2021   26,510 miles   \n",
              "\n",
              "                                  color                        condition  \\\n",
              "2835  silver exterior, unknown interior   2 accidents reported, 3 owners   \n",
              "2836     black exterior, black interior    1 accident reported, 3 owners   \n",
              "2837       gray exterior, gray interior  no accidents reported, 2 owners   \n",
              "2838    gray exterior, unknown interior   no accidents reported, 1 owner   \n",
              "2839     white exterior, black interior   no accidents reported, 1 owner   \n",
              "\n",
              "        price  \n",
              "2835   $8,995  \n",
              "2836   $9,495  \n",
              "2837  $29,999  \n",
              "2838  $22,992  \n",
              "2839  $24,135  "
            ]
          },
          "execution_count": 13,
          "metadata": {},
          "output_type": "execute_result"
        }
      ],
      "source": [
        "# código para paadronizar todas as palavras no df em minuscula\n",
        "\n",
        "df['name'] = df['name'].str.lower()\n",
        "df['color'] = df['color'].str.lower()\n",
        "df['condition'] = df['condition'].str.lower()\n",
        "df.tail()"
      ]
    },
    {
      "cell_type": "code",
      "execution_count": 14,
      "metadata": {
        "colab": {
          "base_uri": "https://localhost:8080/"
        },
        "id": "vOLVucVDFpcK",
        "outputId": "8f705b00-9fdd-4cad-e8c4-db9222f1bc8e"
      },
      "outputs": [
        {
          "data": {
            "text/plain": [
              "0                          kia forte\n",
              "1           chevrolet silverado 1500\n",
              "2                        toyota rav4\n",
              "3                        honda civic\n",
              "6                       honda accord\n",
              "                    ...             \n",
              "2707                       jaguar xj\n",
              "2751                ford thunderbird\n",
              "2755                  dodge ram 1500\n",
              "2810           ford super duty f-350\n",
              "2829    volkswagen atlas cross sport\n",
              "Name: name, Length: 309, dtype: object"
            ]
          },
          "execution_count": 14,
          "metadata": {},
          "output_type": "execute_result"
        }
      ],
      "source": [
        "# código para dropar os vlaoer duplicados no df na coluna 'name'\n",
        "df_sem_duplicados = df['name'].drop_duplicates()\n",
        "df_sem_duplicados"
      ]
    },
    {
      "cell_type": "code",
      "execution_count": 15,
      "metadata": {
        "colab": {
          "base_uri": "https://localhost:8080/",
          "height": 206
        },
        "id": "-TV_4GfSKU7O",
        "outputId": "fe51066c-93f3-4eb7-8ddf-d94e4744407a"
      },
      "outputs": [
        {
          "data": {
            "text/html": [
              "<div>\n",
              "<style scoped>\n",
              "    .dataframe tbody tr th:only-of-type {\n",
              "        vertical-align: middle;\n",
              "    }\n",
              "\n",
              "    .dataframe tbody tr th {\n",
              "        vertical-align: top;\n",
              "    }\n",
              "\n",
              "    .dataframe thead th {\n",
              "        text-align: right;\n",
              "    }\n",
              "</style>\n",
              "<table border=\"1\" class=\"dataframe\">\n",
              "  <thead>\n",
              "    <tr style=\"text-align: right;\">\n",
              "      <th></th>\n",
              "      <th>name</th>\n",
              "      <th>year</th>\n",
              "      <th>miles</th>\n",
              "      <th>color</th>\n",
              "      <th>condition</th>\n",
              "      <th>price</th>\n",
              "    </tr>\n",
              "  </thead>\n",
              "  <tbody>\n",
              "    <tr>\n",
              "      <th>0</th>\n",
              "      <td>kia forte</td>\n",
              "      <td>2022</td>\n",
              "      <td>41,406 miles</td>\n",
              "      <td>gray exterior, black interior</td>\n",
              "      <td>no accidents reported, 1 owner</td>\n",
              "      <td>$15,988</td>\n",
              "    </tr>\n",
              "    <tr>\n",
              "      <th>1</th>\n",
              "      <td>chevrolet silverado 1500</td>\n",
              "      <td>2021</td>\n",
              "      <td>15,138 miles</td>\n",
              "      <td>white exterior, black interior</td>\n",
              "      <td>1 accident reported, 1 owner</td>\n",
              "      <td>$38,008</td>\n",
              "    </tr>\n",
              "    <tr>\n",
              "      <th>2</th>\n",
              "      <td>toyota rav4</td>\n",
              "      <td>2022</td>\n",
              "      <td>32,879 miles</td>\n",
              "      <td>silver exterior, unknown interior</td>\n",
              "      <td>no accidents reported, 1 owner</td>\n",
              "      <td>$24,988</td>\n",
              "    </tr>\n",
              "    <tr>\n",
              "      <th>3</th>\n",
              "      <td>honda civic</td>\n",
              "      <td>2020</td>\n",
              "      <td>37,190 miles</td>\n",
              "      <td>blue exterior, black interior</td>\n",
              "      <td>no accidents reported, 1 owner</td>\n",
              "      <td>$18,998</td>\n",
              "    </tr>\n",
              "    <tr>\n",
              "      <th>4</th>\n",
              "      <td>honda civic</td>\n",
              "      <td>2020</td>\n",
              "      <td>27,496 miles</td>\n",
              "      <td>black exterior, black interior</td>\n",
              "      <td>no accidents reported, 1 owner</td>\n",
              "      <td>$19,498</td>\n",
              "    </tr>\n",
              "  </tbody>\n",
              "</table>\n",
              "</div>"
            ],
            "text/plain": [
              "                       name  year         miles  \\\n",
              "0                 kia forte  2022  41,406 miles   \n",
              "1  chevrolet silverado 1500  2021  15,138 miles   \n",
              "2               toyota rav4  2022  32,879 miles   \n",
              "3               honda civic  2020  37,190 miles   \n",
              "4               honda civic  2020  27,496 miles   \n",
              "\n",
              "                               color                       condition    price  \n",
              "0      gray exterior, black interior  no accidents reported, 1 owner  $15,988  \n",
              "1     white exterior, black interior    1 accident reported, 1 owner  $38,008  \n",
              "2  silver exterior, unknown interior  no accidents reported, 1 owner  $24,988  \n",
              "3      blue exterior, black interior  no accidents reported, 1 owner  $18,998  \n",
              "4     black exterior, black interior  no accidents reported, 1 owner  $19,498  "
            ]
          },
          "execution_count": 15,
          "metadata": {},
          "output_type": "execute_result"
        }
      ],
      "source": [
        "# código para juntar nomes de marcas que estão separados no df\n",
        "\n",
        "df['name'] = df['name'].apply(lambda nome: 'land_rover range rover sport' if nome == 'land rover range rover sport' else nome)\n",
        "df['name'] = df['name'].apply(lambda nome: 'land_rover range rover' if nome == 'land rover range rover' else nome)\n",
        "df['name'] = df['name'].apply(lambda nome: 'land_rover range rover velar' if nome == 'land rover range rover velar' else nome)\n",
        "df['name'] = df['name'].apply(lambda nome: 'land_rover defender' if nome == 'land rover defender' else nome)\n",
        "df['name'] = df['name'].apply(lambda nome: 'alfa_romeo giulia' if nome == 'alfa romeo giulia' else nome)\n",
        "df['name'] = df['name'].apply(lambda nome: 'land_rover range rover evoque' if nome == 'land rover range rover evoque' else nome)\n",
        "df['name'] = df['name'].apply(lambda nome: 'land_rover discovery' if nome == 'land rover discovery' else nome)\n",
        "df['name'] = df['name'].apply(lambda nome: 'aston_martin db9' if nome == 'aston martin db9' else nome)\n",
        "df['name'] = df['name'].apply(lambda nome: 'alfa_romeo stelvio' if nome == 'alfa romeo stelvio' else nome)\n",
        "df['name'] = df['name'].apply(lambda nome: 'land_rovver discovery sport' if nome == 'land rover discovery sport' else nome)\n",
        "df['name'] = df['name'].apply(lambda nome: 'aston_martin vantage' if nome == 'aston martin vantage' else nome)\n",
        "df['name'] = df['name'].apply(lambda nome: 'land_rover lr4' if nome == 'land rover lr4' else nome)\n",
        "\n",
        "\n",
        "df.head()"
      ]
    },
    {
      "cell_type": "code",
      "execution_count": 16,
      "metadata": {
        "colab": {
          "base_uri": "https://localhost:8080/"
        },
        "id": "8k7174w1K4Mh",
        "outputId": "600228c2-ea49-417c-e489-8c91df36c380"
      },
      "outputs": [
        {
          "name": "stdout",
          "output_type": "stream",
          "text": [
            "                    name  year     miles                           color  \\\n",
            "1109  alfa_romeo stelvio  2022  25 miles  black exterior, black interior   \n",
            "1246  alfa_romeo stelvio  2022  68 miles  white exterior, black interior   \n",
            "1323  alfa_romeo stelvio  2022  25 miles  black exterior, black interior   \n",
            "1403  alfa_romeo stelvio  2022  88 miles   gray exterior, black interior   \n",
            "1472  alfa_romeo stelvio  2022  68 miles  white exterior, black interior   \n",
            "1494  alfa_romeo stelvio  2022  85 miles  black exterior, black interior   \n",
            "1659  alfa_romeo stelvio  2022  65 miles  black exterior, black interior   \n",
            "1776  alfa_romeo stelvio  2022  25 miles    red exterior, black interior   \n",
            "1804  alfa_romeo stelvio  2022  86 miles  white exterior, black interior   \n",
            "1815  alfa_romeo stelvio  2022  64 miles  black exterior, black interior   \n",
            "1859  alfa_romeo stelvio  2022  63 miles  black exterior, black interior   \n",
            "2023  alfa_romeo stelvio  2022  25 miles    red exterior, black interior   \n",
            "2050  alfa_romeo stelvio  2022  86 miles  white exterior, black interior   \n",
            "2060  alfa_romeo stelvio  2022  64 miles  black exterior, black interior   \n",
            "\n",
            "                           condition    price  \n",
            "1109  no accidents reported, 1 owner  $34,751  \n",
            "1246  no accidents reported, 1 owner  $30,460  \n",
            "1323  no accidents reported, 1 owner  $34,751  \n",
            "1403  no accidents reported, 1 owner  $30,459  \n",
            "1472  no accidents reported, 1 owner  $30,460  \n",
            "1494  no accidents reported, 1 owner  $35,488  \n",
            "1659  no accidents reported, 1 owner  $35,663  \n",
            "1776  no accidents reported, 1 owner  $33,684  \n",
            "1804  no accidents reported, 1 owner  $35,298  \n",
            "1815  no accidents reported, 1 owner  $35,688  \n",
            "1859  no accidents reported, 1 owner  $31,072  \n",
            "2023  no accidents reported, 1 owner  $33,684  \n",
            "2050  no accidents reported, 1 owner  $35,298  \n",
            "2060  no accidents reported, 1 owner  $35,688  \n"
          ]
        }
      ],
      "source": [
        "# código para visualização de dados\n",
        "\n",
        "df_visualizar = df[df['name'] == 'alfa_romeo stelvio']\n",
        "print(df_visualizar)"
      ]
    },
    {
      "cell_type": "code",
      "execution_count": 17,
      "metadata": {
        "colab": {
          "base_uri": "https://localhost:8080/"
        },
        "id": "1ZZWK8TTPKoU",
        "outputId": "9c96a594-36df-4e2a-f747-8fe3fc759afc"
      },
      "outputs": [
        {
          "name": "stdout",
          "output_type": "stream",
          "text": [
            "                               name  year          miles  \\\n",
            "43     land_rover range rover sport  2016   74,525 miles   \n",
            "138    land_rover range rover sport  2013  124,544 miles   \n",
            "146    land_rover range rover sport  2021   53,743 miles   \n",
            "154          land_rover range rover  2018   35,993 miles   \n",
            "190    land_rover range rover velar  2019   26,989 miles   \n",
            "241          land_rover range rover  2014   74,950 miles   \n",
            "245    land_rover range rover sport  2014  109,322 miles   \n",
            "246    land_rover range rover sport  2015   25,995 miles   \n",
            "289    land_rover range rover velar  2019   26,989 miles   \n",
            "324             land_rover defender  2020   32,049 miles   \n",
            "370    land_rover range rover sport  2016   64,238 miles   \n",
            "448   land_rover range rover evoque  2020   29,921 miles   \n",
            "457            land_rover discovery  2017   55,590 miles   \n",
            "470    land_rover range rover velar  2018   33,452 miles   \n",
            "493            land_rover discovery  2020   62,802 miles   \n",
            "512          land_rover range rover  2011  109,040 miles   \n",
            "568             land_rover defender  2021   29,490 miles   \n",
            "573    land_rover range rover sport  2009  112,045 miles   \n",
            "627            land_rover discovery  2020   62,802 miles   \n",
            "645          land_rover range rover  2011  109,040 miles   \n",
            "704   land_rover range rover evoque  2014   81,607 miles   \n",
            "706          land_rover range rover  2017   51,250 miles   \n",
            "718             land_rover defender  2021   29,490 miles   \n",
            "727    land_rover range rover sport  2009  112,045 miles   \n",
            "764   land_rover range rover evoque  2012   95,743 miles   \n",
            "792          land_rover range rover  2007  108,459 miles   \n",
            "830    land_rover range rover sport  2014   74,390 miles   \n",
            "891          land_rover range rover  2014   61,910 miles   \n",
            "958    land_rover range rover sport  2014   94,800 miles   \n",
            "1031   land_rover range rover sport  2014   74,390 miles   \n",
            "1069   land_rover range rover sport  2020   48,726 miles   \n",
            "1081   land_rover range rover sport  2017   82,088 miles   \n",
            "1158   land_rover range rover sport  2014   94,800 miles   \n",
            "1247         land_rover range rover  2018   45,880 miles   \n",
            "1473         land_rover range rover  2018   45,880 miles   \n",
            "1517  land_rover range rover evoque  2019   45,704 miles   \n",
            "1624   land_rover range rover sport  2014   84,884 miles   \n",
            "1637            land_rover defender  2022   46,567 miles   \n",
            "1658         land_rover range rover  2015   89,338 miles   \n",
            "1789   land_rover range rover velar  2018   67,236 miles   \n",
            "1828   land_rover range rover sport  2009   97,702 miles   \n",
            "1874   land_rover range rover velar  2020   49,726 miles   \n",
            "2037   land_rover range rover velar  2018   67,236 miles   \n",
            "2047  land_rover range rover evoque  2020   11,081 miles   \n",
            "2174                 land_rover lr4  2012   95,372 miles   \n",
            "2176         land_rover range rover  2017   50,240 miles   \n",
            "2246   land_rover range rover sport  2013   88,547 miles   \n",
            "2358            land_rover defender  2023    7,815 miles   \n",
            "2368         land_rover range rover  2009  116,233 miles   \n",
            "2387   land_rover range rover sport  2020   58,917 miles   \n",
            "2491  land_rover range rover evoque  2023    8,503 miles   \n",
            "2569            land_rover defender  2023    7,815 miles   \n",
            "2577         land_rover range rover  2009  116,233 miles   \n",
            "2595   land_rover range rover sport  2020   58,917 miles   \n",
            "2667  land_rover range rover evoque  2020   63,634 miles   \n",
            "2786   land_rover range rover sport  2020   27,983 miles   \n",
            "\n",
            "                                   color                        condition  \\\n",
            "43        black exterior, beige interior    1 accident reported, 2 owners   \n",
            "138      silver exterior, black interior  no accidents reported, 3 owners   \n",
            "146       black exterior, black interior   no accidents reported, 1 owner   \n",
            "154       white exterior, black interior  no accidents reported, 2 owners   \n",
            "190     white exterior, unknown interior   no accidents reported, 1 owner   \n",
            "241       white exterior, beige interior     1 accident reported, 1 owner   \n",
            "245     white exterior, unknown interior  no accidents reported, 4 owners   \n",
            "246   unknown exterior, unknown interior  no accidents reported, 5 owners   \n",
            "289     white exterior, unknown interior   no accidents reported, 1 owner   \n",
            "324       green exterior, green interior   no accidents reported, 1 owner   \n",
            "370       black exterior, black interior   no accidents reported, 1 owner   \n",
            "448       black exterior, black interior  no accidents reported, 2 owners   \n",
            "457        gray exterior, black interior    1 accident reported, 2 owners   \n",
            "470       white exterior, black interior    1 accident reported, 2 owners   \n",
            "493     black exterior, unknown interior   no accidents reported, 1 owner   \n",
            "512        gray exterior, black interior  no accidents reported, 3 owners   \n",
            "568      silver exterior, brown interior   no accidents reported, 1 owner   \n",
            "573       black exterior, black interior   5 accidents reported, 5 owners   \n",
            "627     black exterior, unknown interior   no accidents reported, 1 owner   \n",
            "645        gray exterior, black interior  no accidents reported, 3 owners   \n",
            "704       black exterior, black interior  no accidents reported, 2 owners   \n",
            "706        gray exterior, black interior   no accidents reported, 1 owner   \n",
            "718      silver exterior, brown interior   no accidents reported, 1 owner   \n",
            "727       black exterior, black interior   5 accidents reported, 5 owners   \n",
            "764       white exterior, white interior  no accidents reported, 2 owners   \n",
            "792       white exterior, white interior  no accidents reported, 4 owners   \n",
            "830      silver exterior, black interior   2 accidents reported, 3 owners   \n",
            "891       white exterior, black interior  no accidents reported, 3 owners   \n",
            "958     black exterior, unknown interior   2 accidents reported, 2 owners   \n",
            "1031     silver exterior, black interior   2 accidents reported, 3 owners   \n",
            "1069    black exterior, unknown interior  no accidents reported, 2 owners   \n",
            "1081    black exterior, unknown interior    1 accident reported, 2 owners   \n",
            "1158    black exterior, unknown interior   2 accidents reported, 2 owners   \n",
            "1247       black exterior, gray interior  no accidents reported, 2 owners   \n",
            "1473       black exterior, gray interior  no accidents reported, 2 owners   \n",
            "1517      white exterior, black interior    1 accident reported, 3 owners   \n",
            "1624      white exterior, white interior   no accidents reported, 1 owner   \n",
            "1637      white exterior, black interior   no accidents reported, 1 owner   \n",
            "1658      black exterior, black interior   no accidents reported, 1 owner   \n",
            "1789       gray exterior, black interior  no accidents reported, 2 owners   \n",
            "1828   purple exterior, unknown interior  no accidents reported, 0 owners   \n",
            "1874       blue exterior, black interior   no accidents reported, 1 owner   \n",
            "2037       gray exterior, black interior  no accidents reported, 2 owners   \n",
            "2047      white exterior, black interior  no accidents reported, 2 owners   \n",
            "2174      black exterior, black interior  no accidents reported, 4 owners   \n",
            "2176       gray exterior, black interior   no accidents reported, 1 owner   \n",
            "2246      white exterior, black interior  no accidents reported, 2 owners   \n",
            "2358       gray exterior, black interior   no accidents reported, 1 owner   \n",
            "2368  unknown exterior, unknown interior    1 accident reported, 5 owners   \n",
            "2387    white exterior, unknown interior   no accidents reported, 1 owner   \n",
            "2491       gray exterior, black interior   no accidents reported, 1 owner   \n",
            "2569       gray exterior, black interior   no accidents reported, 1 owner   \n",
            "2577  unknown exterior, unknown interior    1 accident reported, 5 owners   \n",
            "2595    white exterior, unknown interior   no accidents reported, 1 owner   \n",
            "2667      black exterior, black interior   no accidents reported, 1 owner   \n",
            "2786      white exterior, black interior  no accidents reported, 2 owners   \n",
            "\n",
            "        price   montadora                nome  \n",
            "43    $20,994  land_rover   range rover sport  \n",
            "138   $11,995  land_rover   range rover sport  \n",
            "146   $47,995  land_rover   range rover sport  \n",
            "154   $47,999  land_rover         range rover  \n",
            "190   $44,395  land_rover   range rover velar  \n",
            "241   $29,995  land_rover         range rover  \n",
            "245   $18,995  land_rover   range rover sport  \n",
            "246   $25,995  land_rover   range rover sport  \n",
            "289   $44,395  land_rover   range rover velar  \n",
            "324   $59,998  land_rover            defender  \n",
            "370   $25,888  land_rover   range rover sport  \n",
            "448   $30,989  land_rover  range rover evoque  \n",
            "457   $21,995  land_rover           discovery  \n",
            "470   $35,998  land_rover   range rover velar  \n",
            "493   $24,000  land_rover           discovery  \n",
            "512   $13,995  land_rover         range rover  \n",
            "568   $71,222  land_rover            defender  \n",
            "573    $9,995  land_rover   range rover sport  \n",
            "627   $24,000  land_rover           discovery  \n",
            "645   $13,995  land_rover         range rover  \n",
            "704   $14,995  land_rover  range rover evoque  \n",
            "706   $40,000  land_rover         range rover  \n",
            "718   $71,222  land_rover            defender  \n",
            "727    $9,995  land_rover   range rover sport  \n",
            "764   $13,995  land_rover  range rover evoque  \n",
            "792    $9,995  land_rover         range rover  \n",
            "830   $25,995  land_rover   range rover sport  \n",
            "891   $26,999  land_rover         range rover  \n",
            "958   $21,995  land_rover   range rover sport  \n",
            "1031  $25,995  land_rover   range rover sport  \n",
            "1069  $44,603  land_rover   range rover sport  \n",
            "1081  $26,995  land_rover   range rover sport  \n",
            "1158  $21,995  land_rover   range rover sport  \n",
            "1247  $46,999  land_rover         range rover  \n",
            "1473  $46,999  land_rover         range rover  \n",
            "1517  $24,499  land_rover  range rover evoque  \n",
            "1624  $22,995  land_rover   range rover sport  \n",
            "1637  $62,887  land_rover            defender  \n",
            "1658  $24,900  land_rover         range rover  \n",
            "1789  $26,995  land_rover   range rover velar  \n",
            "1828   $9,995  land_rover   range rover sport  \n",
            "1874  $33,851  land_rover   range rover velar  \n",
            "2037  $26,995  land_rover   range rover velar  \n",
            "2047  $35,998  land_rover  range rover evoque  \n",
            "2174  $15,995  land_rover                 lr4  \n",
            "2176  $69,991  land_rover         range rover  \n",
            "2246  $15,995  land_rover   range rover sport  \n",
            "2358  $74,222  land_rover            defender  \n",
            "2368  $10,995  land_rover         range rover  \n",
            "2387  $38,775  land_rover   range rover sport  \n",
            "2491  $40,777  land_rover  range rover evoque  \n",
            "2569  $74,222  land_rover            defender  \n",
            "2577  $10,995  land_rover         range rover  \n",
            "2595  $38,775  land_rover   range rover sport  \n",
            "2667  $24,888  land_rover  range rover evoque  \n",
            "2786  $50,888  land_rover   range rover sport  \n"
          ]
        }
      ],
      "source": [
        "# código para tratar a coluna 'name', separar a marca do carro do modelo em dus colunas diferentes\n",
        "\n",
        "df['montadora'] = df['name'].apply(lambda marca: str(marca.split(sep=' ')[0].strip()))\n",
        "df['nome'] = df['name'].apply(lambda name: str(name.split(sep=' ', maxsplit=1)[1].strip()) if ' ' in name else name)\n",
        "\n",
        "df_marca_visualizar = df[df['montadora'] == 'land_rover']\n",
        "print(df_marca_visualizar)"
      ]
    },
    {
      "cell_type": "code",
      "execution_count": 18,
      "metadata": {
        "colab": {
          "base_uri": "https://localhost:8080/"
        },
        "id": "9QBZLTi0S5A2",
        "outputId": "6341497a-008a-4730-9618-0cbe2db21a38"
      },
      "outputs": [
        {
          "name": "stdout",
          "output_type": "stream",
          "text": [
            "                               name  year         miles  \\\n",
            "448   land_rover range rover evoque  2020  29,921 miles   \n",
            "704   land_rover range rover evoque  2014  81,607 miles   \n",
            "764   land_rover range rover evoque  2012  95,743 miles   \n",
            "1517  land_rover range rover evoque  2019  45,704 miles   \n",
            "2047  land_rover range rover evoque  2020  11,081 miles   \n",
            "2491  land_rover range rover evoque  2023   8,503 miles   \n",
            "2667  land_rover range rover evoque  2020  63,634 miles   \n",
            "\n",
            "                               color                        condition  \\\n",
            "448   black exterior, black interior  no accidents reported, 2 owners   \n",
            "704   black exterior, black interior  no accidents reported, 2 owners   \n",
            "764   white exterior, white interior  no accidents reported, 2 owners   \n",
            "1517  white exterior, black interior    1 accident reported, 3 owners   \n",
            "2047  white exterior, black interior  no accidents reported, 2 owners   \n",
            "2491   gray exterior, black interior   no accidents reported, 1 owner   \n",
            "2667  black exterior, black interior   no accidents reported, 1 owner   \n",
            "\n",
            "        price   montadora                nome  \n",
            "448   $30,989  land_rover  range rover evoque  \n",
            "704   $14,995  land_rover  range rover evoque  \n",
            "764   $13,995  land_rover  range rover evoque  \n",
            "1517  $24,499  land_rover  range rover evoque  \n",
            "2047  $35,998  land_rover  range rover evoque  \n",
            "2491  $40,777  land_rover  range rover evoque  \n",
            "2667  $24,888  land_rover  range rover evoque  \n"
          ]
        }
      ],
      "source": [
        "# código para visualização de dados\n",
        "\n",
        "df_name = df[df['nome'] == 'range rover evoque']\n",
        "print(df_name)"
      ]
    },
    {
      "cell_type": "code",
      "execution_count": 19,
      "metadata": {
        "colab": {
          "base_uri": "https://localhost:8080/",
          "height": 206
        },
        "id": "JW4mXX93VhCV",
        "outputId": "c99ecfca-6da2-472c-babb-62a544ee6e18"
      },
      "outputs": [
        {
          "data": {
            "text/html": [
              "<div>\n",
              "<style scoped>\n",
              "    .dataframe tbody tr th:only-of-type {\n",
              "        vertical-align: middle;\n",
              "    }\n",
              "\n",
              "    .dataframe tbody tr th {\n",
              "        vertical-align: top;\n",
              "    }\n",
              "\n",
              "    .dataframe thead th {\n",
              "        text-align: right;\n",
              "    }\n",
              "</style>\n",
              "<table border=\"1\" class=\"dataframe\">\n",
              "  <thead>\n",
              "    <tr style=\"text-align: right;\">\n",
              "      <th></th>\n",
              "      <th>name</th>\n",
              "      <th>year</th>\n",
              "      <th>miles</th>\n",
              "      <th>color</th>\n",
              "      <th>condition</th>\n",
              "      <th>price</th>\n",
              "      <th>montadora</th>\n",
              "      <th>nome</th>\n",
              "    </tr>\n",
              "  </thead>\n",
              "  <tbody>\n",
              "    <tr>\n",
              "      <th>0</th>\n",
              "      <td>kia forte</td>\n",
              "      <td>2022</td>\n",
              "      <td>41,406 miles</td>\n",
              "      <td>gray exterior, black interior</td>\n",
              "      <td>no accidents reported, 1 owner</td>\n",
              "      <td>$15,988</td>\n",
              "      <td>kia</td>\n",
              "      <td>forte</td>\n",
              "    </tr>\n",
              "    <tr>\n",
              "      <th>1</th>\n",
              "      <td>chevrolet silverado 1500</td>\n",
              "      <td>2021</td>\n",
              "      <td>15,138 miles</td>\n",
              "      <td>white exterior, black interior</td>\n",
              "      <td>1 accident reported, 1 owner</td>\n",
              "      <td>$38,008</td>\n",
              "      <td>chevrolet</td>\n",
              "      <td>silverado 1500</td>\n",
              "    </tr>\n",
              "    <tr>\n",
              "      <th>2</th>\n",
              "      <td>toyota rav4</td>\n",
              "      <td>2022</td>\n",
              "      <td>32,879 miles</td>\n",
              "      <td>silver exterior, unknown interior</td>\n",
              "      <td>no accidents reported, 1 owner</td>\n",
              "      <td>$24,988</td>\n",
              "      <td>toyota</td>\n",
              "      <td>rav4</td>\n",
              "    </tr>\n",
              "    <tr>\n",
              "      <th>3</th>\n",
              "      <td>honda civic</td>\n",
              "      <td>2020</td>\n",
              "      <td>37,190 miles</td>\n",
              "      <td>blue exterior, black interior</td>\n",
              "      <td>no accidents reported, 1 owner</td>\n",
              "      <td>$18,998</td>\n",
              "      <td>honda</td>\n",
              "      <td>civic</td>\n",
              "    </tr>\n",
              "    <tr>\n",
              "      <th>4</th>\n",
              "      <td>honda civic</td>\n",
              "      <td>2020</td>\n",
              "      <td>27,496 miles</td>\n",
              "      <td>black exterior, black interior</td>\n",
              "      <td>no accidents reported, 1 owner</td>\n",
              "      <td>$19,498</td>\n",
              "      <td>honda</td>\n",
              "      <td>civic</td>\n",
              "    </tr>\n",
              "  </tbody>\n",
              "</table>\n",
              "</div>"
            ],
            "text/plain": [
              "                       name  year         miles  \\\n",
              "0                 kia forte  2022  41,406 miles   \n",
              "1  chevrolet silverado 1500  2021  15,138 miles   \n",
              "2               toyota rav4  2022  32,879 miles   \n",
              "3               honda civic  2020  37,190 miles   \n",
              "4               honda civic  2020  27,496 miles   \n",
              "\n",
              "                               color                       condition    price  \\\n",
              "0      gray exterior, black interior  no accidents reported, 1 owner  $15,988   \n",
              "1     white exterior, black interior    1 accident reported, 1 owner  $38,008   \n",
              "2  silver exterior, unknown interior  no accidents reported, 1 owner  $24,988   \n",
              "3      blue exterior, black interior  no accidents reported, 1 owner  $18,998   \n",
              "4     black exterior, black interior  no accidents reported, 1 owner  $19,498   \n",
              "\n",
              "   montadora            nome  \n",
              "0        kia           forte  \n",
              "1  chevrolet  silverado 1500  \n",
              "2     toyota            rav4  \n",
              "3      honda           civic  \n",
              "4      honda           civic  "
            ]
          },
          "execution_count": 19,
          "metadata": {},
          "output_type": "execute_result"
        }
      ],
      "source": [
        "df.head()"
      ]
    },
    {
      "cell_type": "code",
      "execution_count": 20,
      "metadata": {
        "id": "7_tK2MLwVuWq"
      },
      "outputs": [],
      "source": [
        "# código para padronzação de valores de milhas com vírgula para o padrão brasileiro com ponto\n",
        "\n",
        "df['miles'] = df['miles'].apply(lambda milhas: int(milhas.split(sep=' ')[0].strip().replace(',','')))\n",
        "\n"
      ]
    },
    {
      "cell_type": "code",
      "execution_count": 21,
      "metadata": {
        "id": "dTdguXH8WAlP"
      },
      "outputs": [],
      "source": [
        "# código para padronização de valores, separei a informação de cor em duas colunas com os dados de cor interior e cor exterior\n",
        "\n",
        "df['color_exterior'] = df['color'].apply(lambda cor: str(cor.split(sep=',')[0].split(sep=' ')[0].strip()))\n",
        "df['color_interior'] = df['color'].apply(lambda cor: str(cor.split(sep=',')[1].split(sep=' ')[1].strip()))"
      ]
    },
    {
      "cell_type": "code",
      "execution_count": 22,
      "metadata": {
        "colab": {
          "base_uri": "https://localhost:8080/",
          "height": 206
        },
        "id": "7uh7jwsVXUuy",
        "outputId": "e778c4f7-dee9-4aca-bf4d-2fee8cdd6110"
      },
      "outputs": [
        {
          "data": {
            "text/html": [
              "<div>\n",
              "<style scoped>\n",
              "    .dataframe tbody tr th:only-of-type {\n",
              "        vertical-align: middle;\n",
              "    }\n",
              "\n",
              "    .dataframe tbody tr th {\n",
              "        vertical-align: top;\n",
              "    }\n",
              "\n",
              "    .dataframe thead th {\n",
              "        text-align: right;\n",
              "    }\n",
              "</style>\n",
              "<table border=\"1\" class=\"dataframe\">\n",
              "  <thead>\n",
              "    <tr style=\"text-align: right;\">\n",
              "      <th></th>\n",
              "      <th>name</th>\n",
              "      <th>year</th>\n",
              "      <th>miles</th>\n",
              "      <th>color</th>\n",
              "      <th>condition</th>\n",
              "      <th>price</th>\n",
              "      <th>montadora</th>\n",
              "      <th>nome</th>\n",
              "      <th>color_exterior</th>\n",
              "      <th>color_interior</th>\n",
              "    </tr>\n",
              "  </thead>\n",
              "  <tbody>\n",
              "    <tr>\n",
              "      <th>2835</th>\n",
              "      <td>ford escape</td>\n",
              "      <td>2013</td>\n",
              "      <td>98601</td>\n",
              "      <td>silver exterior, unknown interior</td>\n",
              "      <td>2 accidents reported, 3 owners</td>\n",
              "      <td>$8,995</td>\n",
              "      <td>ford</td>\n",
              "      <td>escape</td>\n",
              "      <td>silver</td>\n",
              "      <td>unknown</td>\n",
              "    </tr>\n",
              "    <tr>\n",
              "      <th>2836</th>\n",
              "      <td>mercedes-benz r-class</td>\n",
              "      <td>2009</td>\n",
              "      <td>120694</td>\n",
              "      <td>black exterior, black interior</td>\n",
              "      <td>1 accident reported, 3 owners</td>\n",
              "      <td>$9,495</td>\n",
              "      <td>mercedes-benz</td>\n",
              "      <td>r-class</td>\n",
              "      <td>black</td>\n",
              "      <td>black</td>\n",
              "    </tr>\n",
              "    <tr>\n",
              "      <th>2837</th>\n",
              "      <td>mercedes-benz glc</td>\n",
              "      <td>2022</td>\n",
              "      <td>27894</td>\n",
              "      <td>gray exterior, gray interior</td>\n",
              "      <td>no accidents reported, 2 owners</td>\n",
              "      <td>$29,999</td>\n",
              "      <td>mercedes-benz</td>\n",
              "      <td>glc</td>\n",
              "      <td>gray</td>\n",
              "      <td>gray</td>\n",
              "    </tr>\n",
              "    <tr>\n",
              "      <th>2838</th>\n",
              "      <td>honda cr-v</td>\n",
              "      <td>2021</td>\n",
              "      <td>50220</td>\n",
              "      <td>gray exterior, unknown interior</td>\n",
              "      <td>no accidents reported, 1 owner</td>\n",
              "      <td>$22,992</td>\n",
              "      <td>honda</td>\n",
              "      <td>cr-v</td>\n",
              "      <td>gray</td>\n",
              "      <td>unknown</td>\n",
              "    </tr>\n",
              "    <tr>\n",
              "      <th>2839</th>\n",
              "      <td>honda civic</td>\n",
              "      <td>2021</td>\n",
              "      <td>26510</td>\n",
              "      <td>white exterior, black interior</td>\n",
              "      <td>no accidents reported, 1 owner</td>\n",
              "      <td>$24,135</td>\n",
              "      <td>honda</td>\n",
              "      <td>civic</td>\n",
              "      <td>white</td>\n",
              "      <td>black</td>\n",
              "    </tr>\n",
              "  </tbody>\n",
              "</table>\n",
              "</div>"
            ],
            "text/plain": [
              "                       name  year   miles                              color  \\\n",
              "2835            ford escape  2013   98601  silver exterior, unknown interior   \n",
              "2836  mercedes-benz r-class  2009  120694     black exterior, black interior   \n",
              "2837      mercedes-benz glc  2022   27894       gray exterior, gray interior   \n",
              "2838             honda cr-v  2021   50220    gray exterior, unknown interior   \n",
              "2839            honda civic  2021   26510     white exterior, black interior   \n",
              "\n",
              "                            condition    price      montadora     nome  \\\n",
              "2835   2 accidents reported, 3 owners   $8,995           ford   escape   \n",
              "2836    1 accident reported, 3 owners   $9,495  mercedes-benz  r-class   \n",
              "2837  no accidents reported, 2 owners  $29,999  mercedes-benz      glc   \n",
              "2838   no accidents reported, 1 owner  $22,992          honda     cr-v   \n",
              "2839   no accidents reported, 1 owner  $24,135          honda    civic   \n",
              "\n",
              "     color_exterior color_interior  \n",
              "2835         silver        unknown  \n",
              "2836          black          black  \n",
              "2837           gray           gray  \n",
              "2838           gray        unknown  \n",
              "2839          white          black  "
            ]
          },
          "execution_count": 22,
          "metadata": {},
          "output_type": "execute_result"
        }
      ],
      "source": [
        "df.tail()"
      ]
    },
    {
      "cell_type": "code",
      "execution_count": 23,
      "metadata": {
        "id": "APOUZOFhXqUX"
      },
      "outputs": [],
      "source": [
        "# padronização, separação da coluna \"condition\" em duas colunas com os dados de acidentes registrados e owners\n",
        "\n",
        "df['accidents_reported'] = df['condition'].apply(lambda acidentes: str(acidentes.split(sep=',')[0].split(sep=' ')[0].strip()))\n",
        "df['accidents_reported'] = df['accidents_reported'].apply(lambda zero: int('0' if zero == 'no' else zero))\n",
        "\n",
        "df['owners'] = df['condition'].apply(lambda donos: int(donos.split(sep=',')[1].strip().split(sep=' ')[0].strip()))"
      ]
    },
    {
      "cell_type": "code",
      "execution_count": 24,
      "metadata": {
        "colab": {
          "base_uri": "https://localhost:8080/",
          "height": 206
        },
        "id": "rZxvMZQkgPtM",
        "outputId": "abd4dece-2d06-482d-f36c-0ae987bedf1e"
      },
      "outputs": [
        {
          "data": {
            "text/html": [
              "<div>\n",
              "<style scoped>\n",
              "    .dataframe tbody tr th:only-of-type {\n",
              "        vertical-align: middle;\n",
              "    }\n",
              "\n",
              "    .dataframe tbody tr th {\n",
              "        vertical-align: top;\n",
              "    }\n",
              "\n",
              "    .dataframe thead th {\n",
              "        text-align: right;\n",
              "    }\n",
              "</style>\n",
              "<table border=\"1\" class=\"dataframe\">\n",
              "  <thead>\n",
              "    <tr style=\"text-align: right;\">\n",
              "      <th></th>\n",
              "      <th>name</th>\n",
              "      <th>year</th>\n",
              "      <th>miles</th>\n",
              "      <th>color</th>\n",
              "      <th>condition</th>\n",
              "      <th>price</th>\n",
              "      <th>montadora</th>\n",
              "      <th>nome</th>\n",
              "      <th>color_exterior</th>\n",
              "      <th>color_interior</th>\n",
              "      <th>accidents_reported</th>\n",
              "      <th>owners</th>\n",
              "    </tr>\n",
              "  </thead>\n",
              "  <tbody>\n",
              "    <tr>\n",
              "      <th>2835</th>\n",
              "      <td>ford escape</td>\n",
              "      <td>2013</td>\n",
              "      <td>98601</td>\n",
              "      <td>silver exterior, unknown interior</td>\n",
              "      <td>2 accidents reported, 3 owners</td>\n",
              "      <td>$8,995</td>\n",
              "      <td>ford</td>\n",
              "      <td>escape</td>\n",
              "      <td>silver</td>\n",
              "      <td>unknown</td>\n",
              "      <td>2</td>\n",
              "      <td>3</td>\n",
              "    </tr>\n",
              "    <tr>\n",
              "      <th>2836</th>\n",
              "      <td>mercedes-benz r-class</td>\n",
              "      <td>2009</td>\n",
              "      <td>120694</td>\n",
              "      <td>black exterior, black interior</td>\n",
              "      <td>1 accident reported, 3 owners</td>\n",
              "      <td>$9,495</td>\n",
              "      <td>mercedes-benz</td>\n",
              "      <td>r-class</td>\n",
              "      <td>black</td>\n",
              "      <td>black</td>\n",
              "      <td>1</td>\n",
              "      <td>3</td>\n",
              "    </tr>\n",
              "    <tr>\n",
              "      <th>2837</th>\n",
              "      <td>mercedes-benz glc</td>\n",
              "      <td>2022</td>\n",
              "      <td>27894</td>\n",
              "      <td>gray exterior, gray interior</td>\n",
              "      <td>no accidents reported, 2 owners</td>\n",
              "      <td>$29,999</td>\n",
              "      <td>mercedes-benz</td>\n",
              "      <td>glc</td>\n",
              "      <td>gray</td>\n",
              "      <td>gray</td>\n",
              "      <td>0</td>\n",
              "      <td>2</td>\n",
              "    </tr>\n",
              "    <tr>\n",
              "      <th>2838</th>\n",
              "      <td>honda cr-v</td>\n",
              "      <td>2021</td>\n",
              "      <td>50220</td>\n",
              "      <td>gray exterior, unknown interior</td>\n",
              "      <td>no accidents reported, 1 owner</td>\n",
              "      <td>$22,992</td>\n",
              "      <td>honda</td>\n",
              "      <td>cr-v</td>\n",
              "      <td>gray</td>\n",
              "      <td>unknown</td>\n",
              "      <td>0</td>\n",
              "      <td>1</td>\n",
              "    </tr>\n",
              "    <tr>\n",
              "      <th>2839</th>\n",
              "      <td>honda civic</td>\n",
              "      <td>2021</td>\n",
              "      <td>26510</td>\n",
              "      <td>white exterior, black interior</td>\n",
              "      <td>no accidents reported, 1 owner</td>\n",
              "      <td>$24,135</td>\n",
              "      <td>honda</td>\n",
              "      <td>civic</td>\n",
              "      <td>white</td>\n",
              "      <td>black</td>\n",
              "      <td>0</td>\n",
              "      <td>1</td>\n",
              "    </tr>\n",
              "  </tbody>\n",
              "</table>\n",
              "</div>"
            ],
            "text/plain": [
              "                       name  year   miles                              color  \\\n",
              "2835            ford escape  2013   98601  silver exterior, unknown interior   \n",
              "2836  mercedes-benz r-class  2009  120694     black exterior, black interior   \n",
              "2837      mercedes-benz glc  2022   27894       gray exterior, gray interior   \n",
              "2838             honda cr-v  2021   50220    gray exterior, unknown interior   \n",
              "2839            honda civic  2021   26510     white exterior, black interior   \n",
              "\n",
              "                            condition    price      montadora     nome  \\\n",
              "2835   2 accidents reported, 3 owners   $8,995           ford   escape   \n",
              "2836    1 accident reported, 3 owners   $9,495  mercedes-benz  r-class   \n",
              "2837  no accidents reported, 2 owners  $29,999  mercedes-benz      glc   \n",
              "2838   no accidents reported, 1 owner  $22,992          honda     cr-v   \n",
              "2839   no accidents reported, 1 owner  $24,135          honda    civic   \n",
              "\n",
              "     color_exterior color_interior  accidents_reported  owners  \n",
              "2835         silver        unknown                   2       3  \n",
              "2836          black          black                   1       3  \n",
              "2837           gray           gray                   0       2  \n",
              "2838           gray        unknown                   0       1  \n",
              "2839          white          black                   0       1  "
            ]
          },
          "execution_count": 24,
          "metadata": {},
          "output_type": "execute_result"
        }
      ],
      "source": [
        "df.tail()"
      ]
    },
    {
      "cell_type": "code",
      "execution_count": 25,
      "metadata": {
        "id": "wTxhqHQshhvl"
      },
      "outputs": [],
      "source": [
        "# padronização dos dados de preço do carro, mudei do padrçao norte americano com vírgula para o ponto\n",
        "\n",
        "df['price'] = df['price'].apply(lambda preco: int(preco.split(sep='$')[-1].strip().replace(',','')))"
      ]
    },
    {
      "cell_type": "code",
      "execution_count": 26,
      "metadata": {
        "colab": {
          "base_uri": "https://localhost:8080/",
          "height": 206
        },
        "id": "0BvnOjochey7",
        "outputId": "e46ef93f-7ded-419e-b0ad-2e5210d2806b"
      },
      "outputs": [
        {
          "data": {
            "text/html": [
              "<div>\n",
              "<style scoped>\n",
              "    .dataframe tbody tr th:only-of-type {\n",
              "        vertical-align: middle;\n",
              "    }\n",
              "\n",
              "    .dataframe tbody tr th {\n",
              "        vertical-align: top;\n",
              "    }\n",
              "\n",
              "    .dataframe thead th {\n",
              "        text-align: right;\n",
              "    }\n",
              "</style>\n",
              "<table border=\"1\" class=\"dataframe\">\n",
              "  <thead>\n",
              "    <tr style=\"text-align: right;\">\n",
              "      <th></th>\n",
              "      <th>name</th>\n",
              "      <th>year</th>\n",
              "      <th>miles</th>\n",
              "      <th>color</th>\n",
              "      <th>condition</th>\n",
              "      <th>price</th>\n",
              "      <th>montadora</th>\n",
              "      <th>nome</th>\n",
              "      <th>color_exterior</th>\n",
              "      <th>color_interior</th>\n",
              "      <th>accidents_reported</th>\n",
              "      <th>owners</th>\n",
              "    </tr>\n",
              "  </thead>\n",
              "  <tbody>\n",
              "    <tr>\n",
              "      <th>2835</th>\n",
              "      <td>ford escape</td>\n",
              "      <td>2013</td>\n",
              "      <td>98601</td>\n",
              "      <td>silver exterior, unknown interior</td>\n",
              "      <td>2 accidents reported, 3 owners</td>\n",
              "      <td>8995</td>\n",
              "      <td>ford</td>\n",
              "      <td>escape</td>\n",
              "      <td>silver</td>\n",
              "      <td>unknown</td>\n",
              "      <td>2</td>\n",
              "      <td>3</td>\n",
              "    </tr>\n",
              "    <tr>\n",
              "      <th>2836</th>\n",
              "      <td>mercedes-benz r-class</td>\n",
              "      <td>2009</td>\n",
              "      <td>120694</td>\n",
              "      <td>black exterior, black interior</td>\n",
              "      <td>1 accident reported, 3 owners</td>\n",
              "      <td>9495</td>\n",
              "      <td>mercedes-benz</td>\n",
              "      <td>r-class</td>\n",
              "      <td>black</td>\n",
              "      <td>black</td>\n",
              "      <td>1</td>\n",
              "      <td>3</td>\n",
              "    </tr>\n",
              "    <tr>\n",
              "      <th>2837</th>\n",
              "      <td>mercedes-benz glc</td>\n",
              "      <td>2022</td>\n",
              "      <td>27894</td>\n",
              "      <td>gray exterior, gray interior</td>\n",
              "      <td>no accidents reported, 2 owners</td>\n",
              "      <td>29999</td>\n",
              "      <td>mercedes-benz</td>\n",
              "      <td>glc</td>\n",
              "      <td>gray</td>\n",
              "      <td>gray</td>\n",
              "      <td>0</td>\n",
              "      <td>2</td>\n",
              "    </tr>\n",
              "    <tr>\n",
              "      <th>2838</th>\n",
              "      <td>honda cr-v</td>\n",
              "      <td>2021</td>\n",
              "      <td>50220</td>\n",
              "      <td>gray exterior, unknown interior</td>\n",
              "      <td>no accidents reported, 1 owner</td>\n",
              "      <td>22992</td>\n",
              "      <td>honda</td>\n",
              "      <td>cr-v</td>\n",
              "      <td>gray</td>\n",
              "      <td>unknown</td>\n",
              "      <td>0</td>\n",
              "      <td>1</td>\n",
              "    </tr>\n",
              "    <tr>\n",
              "      <th>2839</th>\n",
              "      <td>honda civic</td>\n",
              "      <td>2021</td>\n",
              "      <td>26510</td>\n",
              "      <td>white exterior, black interior</td>\n",
              "      <td>no accidents reported, 1 owner</td>\n",
              "      <td>24135</td>\n",
              "      <td>honda</td>\n",
              "      <td>civic</td>\n",
              "      <td>white</td>\n",
              "      <td>black</td>\n",
              "      <td>0</td>\n",
              "      <td>1</td>\n",
              "    </tr>\n",
              "  </tbody>\n",
              "</table>\n",
              "</div>"
            ],
            "text/plain": [
              "                       name  year   miles                              color  \\\n",
              "2835            ford escape  2013   98601  silver exterior, unknown interior   \n",
              "2836  mercedes-benz r-class  2009  120694     black exterior, black interior   \n",
              "2837      mercedes-benz glc  2022   27894       gray exterior, gray interior   \n",
              "2838             honda cr-v  2021   50220    gray exterior, unknown interior   \n",
              "2839            honda civic  2021   26510     white exterior, black interior   \n",
              "\n",
              "                            condition  price      montadora     nome  \\\n",
              "2835   2 accidents reported, 3 owners   8995           ford   escape   \n",
              "2836    1 accident reported, 3 owners   9495  mercedes-benz  r-class   \n",
              "2837  no accidents reported, 2 owners  29999  mercedes-benz      glc   \n",
              "2838   no accidents reported, 1 owner  22992          honda     cr-v   \n",
              "2839   no accidents reported, 1 owner  24135          honda    civic   \n",
              "\n",
              "     color_exterior color_interior  accidents_reported  owners  \n",
              "2835         silver        unknown                   2       3  \n",
              "2836          black          black                   1       3  \n",
              "2837           gray           gray                   0       2  \n",
              "2838           gray        unknown                   0       1  \n",
              "2839          white          black                   0       1  "
            ]
          },
          "execution_count": 26,
          "metadata": {},
          "output_type": "execute_result"
        }
      ],
      "source": [
        "df.tail()"
      ]
    },
    {
      "cell_type": "code",
      "execution_count": 27,
      "metadata": {
        "id": "lJ8_uFYEJPU7"
      },
      "outputs": [],
      "source": [
        "def visualizacao(filtro_coluna:str, filtro_valor:str, x:str, y:str):\n",
        "\n",
        "  filtro_coluna = str(filtro_coluna)\n",
        "  filtro_valor = str(filtro_valor)\n",
        "  x = str(x)\n",
        "  y = str(y)\n",
        "  df_filtrado = df.loc[df[filtro_coluna] == filtro_valor]\n",
        "\n",
        "  with sns.axes_style('whitegrid'):\n",
        "    grafico = sns.barplot(data=df_filtrado, x=x, y=y, color='steelblue')\n",
        "    grafico.set(title=\"Comparação do \"+y+\" por \"+x+\" da coluna \"+filtro_coluna+\" filtrada por \"+filtro_valor)\n",
        "\n",
        "    for p in grafico.patches:\n",
        "      grafico.annotate(f'{p.get_height().round(2)}', (p.get_x() + p.get_width() / 2., p.get_height()),\n",
        "              ha='center', va='center', fontsize=10, color='black', xytext=(0, -50),\n",
        "              textcoords='offset points')\n",
        "\n",
        "\n",
        "    return grafico\n"
      ]
    },
    {
      "cell_type": "markdown",
      "metadata": {
        "id": "bx1kVkj9ZCO5"
      },
      "source": [
        "# Abaixo a comparção do preço das montadoras, toyota, honda e ford comparada com o número de acidentes reportados, número de donos.\n",
        "\n",
        "O objetivo dessa comparação é saber se esses dados interferem diretamente nos valores dos carros dessas montadoras específicas."
      ]
    },
    {
      "cell_type": "markdown",
      "metadata": {
        "id": "iMlywsAU0H27"
      },
      "source": [
        "## toyota"
      ]
    },
    {
      "cell_type": "code",
      "execution_count": 28,
      "metadata": {
        "colab": {
          "base_uri": "https://localhost:8080/",
          "height": 489
        },
        "id": "Ou3obcU0K_IY",
        "outputId": "7e4b6e0d-e37c-4fb4-8769-a1d172af4090"
      },
      "outputs": [
        {
          "data": {
            "text/plain": [
              "<Axes: title={'center': 'Comparação do price por accidents_reported da coluna montadora filtrada por toyota'}, xlabel='accidents_reported', ylabel='price'>"
            ]
          },
          "execution_count": 28,
          "metadata": {},
          "output_type": "execute_result"
        },
        {
          "data": {
            "image/png": "[encoded data removed]",
            "text/plain": [
              "<Figure size 640x480 with 1 Axes>"
            ]
          },
          "metadata": {},
          "output_type": "display_data"
        }
      ],
      "source": [
        "visualizacao('montadora', 'toyota', 'accidents_reported', 'price')"
      ]
    },
    {
      "cell_type": "markdown",
      "metadata": {
        "id": "-JJ5z30m03e_"
      },
      "source": [
        "Comentários:\n",
        "Analisando o gráfico podemos notar que o numero de acidentes interfere negativamente nos valores dos carros da montadora toyota, não chega a ser um valor muito notável porém é existente."
      ]
    },
    {
      "cell_type": "code",
      "execution_count": 29,
      "metadata": {
        "colab": {
          "base_uri": "https://localhost:8080/",
          "height": 489
        },
        "id": "JtTr0jed0F04",
        "outputId": "a54d76eb-796e-461a-ac48-5296bc6a18b3"
      },
      "outputs": [
        {
          "data": {
            "text/plain": [
              "<Axes: title={'center': 'Comparação do price por owners da coluna montadora filtrada por toyota'}, xlabel='owners', ylabel='price'>"
            ]
          },
          "execution_count": 29,
          "metadata": {},
          "output_type": "execute_result"
        },
        {
          "data": {
            "image/png": "[encoded data removed]",
            "text/plain": [
              "<Figure size 640x480 with 1 Axes>"
            ]
          },
          "metadata": {},
          "output_type": "display_data"
        }
      ],
      "source": [
        "visualizacao('montadora', 'toyota', 'owners', 'price')"
      ]
    },
    {
      "cell_type": "markdown",
      "metadata": {
        "id": "Bzf1FUiI1O3-"
      },
      "source": [
        "Comentários:\n",
        "O número de donos também interfere negativamente nos valores dos carros."
      ]
    },
    {
      "cell_type": "markdown",
      "metadata": {
        "id": "zL54ha2O1dm0"
      },
      "source": [
        "## honda"
      ]
    },
    {
      "cell_type": "code",
      "execution_count": 30,
      "metadata": {
        "colab": {
          "base_uri": "https://localhost:8080/",
          "height": 489
        },
        "id": "YrHK5yE10W4_",
        "outputId": "41eac0af-5820-4849-c284-b53609d0dc60"
      },
      "outputs": [
        {
          "data": {
            "text/plain": [
              "<Axes: title={'center': 'Comparação do price por accidents_reported da coluna montadora filtrada por honda'}, xlabel='accidents_reported', ylabel='price'>"
            ]
          },
          "execution_count": 30,
          "metadata": {},
          "output_type": "execute_result"
        },
        {
          "data": {
            "image/png": "[encoded data removed]",
            "text/plain": [
              "<Figure size 640x480 with 1 Axes>"
            ]
          },
          "metadata": {},
          "output_type": "display_data"
        }
      ],
      "source": [
        "visualizacao('montadora', 'honda', 'accidents_reported', 'price')"
      ]
    },
    {
      "cell_type": "markdown",
      "metadata": {
        "id": "9Teq_X_V1pUm"
      },
      "source": [
        "Comentário:\n",
        "O número de acidentes em carros da honda não interfere muito em seu valor, fator curioso é que carros com 3 acidentes tendem a ser mais caros que os carro com apenas 2, e seu valor quase se iguala a carros com 1 acidente reportado."
      ]
    },
    {
      "cell_type": "code",
      "execution_count": 31,
      "metadata": {
        "colab": {
          "base_uri": "https://localhost:8080/",
          "height": 489
        },
        "id": "wRnUEAel0o_L",
        "outputId": "8fe598a5-87ca-4674-eb2c-265d2b233661"
      },
      "outputs": [
        {
          "data": {
            "text/plain": [
              "<Axes: title={'center': 'Comparação do price por owners da coluna montadora filtrada por honda'}, xlabel='owners', ylabel='price'>"
            ]
          },
          "execution_count": 31,
          "metadata": {},
          "output_type": "execute_result"
        },
        {
          "data": {
            "image/png": "[encoded data removed]",
            "text/plain": [
              "<Figure size 640x480 with 1 Axes>"
            ]
          },
          "metadata": {},
          "output_type": "display_data"
        }
      ],
      "source": [
        "visualizacao('montadora', 'honda', 'owners', 'price')"
      ]
    },
    {
      "cell_type": "markdown",
      "metadata": {
        "id": "qIpyKh2z1_ve"
      },
      "source": [
        "Comentário: O número de dono interferiiu no valor dos carros da honda, quanto mais donos, mais baratos os carros. A primeira coluna com o valor 0 está abaixo das outras pelo fato de que deve existir poucos carros honda com 0 donos na base de dados."
      ]
    },
    {
      "cell_type": "markdown",
      "metadata": {
        "id": "9HcNq3Lh1fFM"
      },
      "source": [
        "## ford"
      ]
    },
    {
      "cell_type": "code",
      "execution_count": 32,
      "metadata": {
        "colab": {
          "base_uri": "https://localhost:8080/",
          "height": 489
        },
        "id": "0wRSJr7v0uqq",
        "outputId": "1c3a7c31-abe6-4344-c25c-ec972f555981"
      },
      "outputs": [
        {
          "data": {
            "text/plain": [
              "<Axes: title={'center': 'Comparação do price por accidents_reported da coluna montadora filtrada por ford'}, xlabel='accidents_reported', ylabel='price'>"
            ]
          },
          "execution_count": 32,
          "metadata": {},
          "output_type": "execute_result"
        },
        {
          "data": {
            "image/png": "[encoded data removed]",
            "text/plain": [
              "<Figure size 640x480 with 1 Axes>"
            ]
          },
          "metadata": {},
          "output_type": "display_data"
        }
      ],
      "source": [
        "visualizacao('montadora', 'ford', 'accidents_reported', 'price')"
      ]
    },
    {
      "cell_type": "markdown",
      "metadata": {
        "id": "NU7AZuA72drb"
      },
      "source": [
        "Comentário:\n",
        "Carros da ford, em número de acidentes reportados, seguem a mesma ideia de carros da honda, veículos com 3 acidentes reportados valem mais que os veículos com apenas 2 e 1."
      ]
    },
    {
      "cell_type": "code",
      "execution_count": 33,
      "metadata": {
        "colab": {
          "base_uri": "https://localhost:8080/",
          "height": 489
        },
        "id": "BaYglINk0x2L",
        "outputId": "02bb3011-f8cd-4920-f5d5-8c56b5615663"
      },
      "outputs": [
        {
          "data": {
            "text/plain": [
              "<Axes: title={'center': 'Comparação do price por owners da coluna montadora filtrada por ford'}, xlabel='owners', ylabel='price'>"
            ]
          },
          "execution_count": 33,
          "metadata": {},
          "output_type": "execute_result"
        },
        {
          "data": {
            "image/png": "[encoded data removed]",
            "text/plain": [
              "<Figure size 640x480 with 1 Axes>"
            ]
          },
          "metadata": {},
          "output_type": "display_data"
        }
      ],
      "source": [
        "visualizacao('montadora', 'ford', 'owners', 'price')"
      ]
    },
    {
      "cell_type": "markdown",
      "metadata": {
        "id": "yyNjtm5K2v8B"
      },
      "source": [
        "Comentário: Nesse caso temos bastante veículos com 0 donos sendo assim tem o maior valor da categoria, e os valores vão decaindo conforme o número de donos vai aumentando."
      ]
    },
    {
      "cell_type": "code",
      "execution_count": 34,
      "metadata": {
        "id": "ocCOzFaFItOp"
      },
      "outputs": [],
      "source": [
        "# padronizando as colunas miles, aaccidents_reported e owners\n",
        "\n",
        "milhas_media = df['miles'].mean()\n",
        "milhas_desvio_padrao = df['miles'].std()\n",
        "df['miles'] = df['miles'].apply(lambda milhas: (milhas - milhas_media)/milhas_desvio_padrao)\n",
        "\n",
        "acidentes_media = df['accidents_reported'].mean()\n",
        "acidentes_desvio_padrao = df['accidents_reported'].std()\n",
        "df['accidents_reported'] = df['accidents_reported'].apply(lambda acidentes: (acidentes - acidentes_media)/acidentes_desvio_padrao)\n",
        "\n",
        "donos_media = df['owners'].mean()\n",
        "donos_desvio_padrao = df['owners'].std()\n",
        "df['owners'] = df['owners'].apply(lambda donos: (donos - donos_media)/donos_desvio_padrao)"
      ]
    },
    {
      "cell_type": "code",
      "execution_count": 35,
      "metadata": {
        "colab": {
          "base_uri": "https://localhost:8080/",
          "height": 206
        },
        "id": "ZC137NkCI9n5",
        "outputId": "ab8fce31-4bdc-466a-99b3-5b1b40a5af43"
      },
      "outputs": [
        {
          "data": {
            "text/html": [
              "<div>\n",
              "<style scoped>\n",
              "    .dataframe tbody tr th:only-of-type {\n",
              "        vertical-align: middle;\n",
              "    }\n",
              "\n",
              "    .dataframe tbody tr th {\n",
              "        vertical-align: top;\n",
              "    }\n",
              "\n",
              "    .dataframe thead th {\n",
              "        text-align: right;\n",
              "    }\n",
              "</style>\n",
              "<table border=\"1\" class=\"dataframe\">\n",
              "  <thead>\n",
              "    <tr style=\"text-align: right;\">\n",
              "      <th></th>\n",
              "      <th>name</th>\n",
              "      <th>year</th>\n",
              "      <th>miles</th>\n",
              "      <th>color</th>\n",
              "      <th>condition</th>\n",
              "      <th>price</th>\n",
              "      <th>montadora</th>\n",
              "      <th>nome</th>\n",
              "      <th>color_exterior</th>\n",
              "      <th>color_interior</th>\n",
              "      <th>accidents_reported</th>\n",
              "      <th>owners</th>\n",
              "    </tr>\n",
              "  </thead>\n",
              "  <tbody>\n",
              "    <tr>\n",
              "      <th>2835</th>\n",
              "      <td>ford escape</td>\n",
              "      <td>2013</td>\n",
              "      <td>1.328380</td>\n",
              "      <td>silver exterior, unknown interior</td>\n",
              "      <td>2 accidents reported, 3 owners</td>\n",
              "      <td>8995</td>\n",
              "      <td>ford</td>\n",
              "      <td>escape</td>\n",
              "      <td>silver</td>\n",
              "      <td>unknown</td>\n",
              "      <td>2.875457</td>\n",
              "      <td>1.723272</td>\n",
              "    </tr>\n",
              "    <tr>\n",
              "      <th>2836</th>\n",
              "      <td>mercedes-benz r-class</td>\n",
              "      <td>2009</td>\n",
              "      <td>1.933959</td>\n",
              "      <td>black exterior, black interior</td>\n",
              "      <td>1 accident reported, 3 owners</td>\n",
              "      <td>9495</td>\n",
              "      <td>mercedes-benz</td>\n",
              "      <td>r-class</td>\n",
              "      <td>black</td>\n",
              "      <td>black</td>\n",
              "      <td>1.204774</td>\n",
              "      <td>1.723272</td>\n",
              "    </tr>\n",
              "    <tr>\n",
              "      <th>2837</th>\n",
              "      <td>mercedes-benz glc</td>\n",
              "      <td>2022</td>\n",
              "      <td>-0.609730</td>\n",
              "      <td>gray exterior, gray interior</td>\n",
              "      <td>no accidents reported, 2 owners</td>\n",
              "      <td>29999</td>\n",
              "      <td>mercedes-benz</td>\n",
              "      <td>glc</td>\n",
              "      <td>gray</td>\n",
              "      <td>gray</td>\n",
              "      <td>-0.465909</td>\n",
              "      <td>0.568733</td>\n",
              "    </tr>\n",
              "    <tr>\n",
              "      <th>2838</th>\n",
              "      <td>honda cr-v</td>\n",
              "      <td>2021</td>\n",
              "      <td>0.002235</td>\n",
              "      <td>gray exterior, unknown interior</td>\n",
              "      <td>no accidents reported, 1 owner</td>\n",
              "      <td>22992</td>\n",
              "      <td>honda</td>\n",
              "      <td>cr-v</td>\n",
              "      <td>gray</td>\n",
              "      <td>unknown</td>\n",
              "      <td>-0.465909</td>\n",
              "      <td>-0.585807</td>\n",
              "    </tr>\n",
              "    <tr>\n",
              "      <th>2839</th>\n",
              "      <td>honda civic</td>\n",
              "      <td>2021</td>\n",
              "      <td>-0.647666</td>\n",
              "      <td>white exterior, black interior</td>\n",
              "      <td>no accidents reported, 1 owner</td>\n",
              "      <td>24135</td>\n",
              "      <td>honda</td>\n",
              "      <td>civic</td>\n",
              "      <td>white</td>\n",
              "      <td>black</td>\n",
              "      <td>-0.465909</td>\n",
              "      <td>-0.585807</td>\n",
              "    </tr>\n",
              "  </tbody>\n",
              "</table>\n",
              "</div>"
            ],
            "text/plain": [
              "                       name  year     miles  \\\n",
              "2835            ford escape  2013  1.328380   \n",
              "2836  mercedes-benz r-class  2009  1.933959   \n",
              "2837      mercedes-benz glc  2022 -0.609730   \n",
              "2838             honda cr-v  2021  0.002235   \n",
              "2839            honda civic  2021 -0.647666   \n",
              "\n",
              "                                  color                        condition  \\\n",
              "2835  silver exterior, unknown interior   2 accidents reported, 3 owners   \n",
              "2836     black exterior, black interior    1 accident reported, 3 owners   \n",
              "2837       gray exterior, gray interior  no accidents reported, 2 owners   \n",
              "2838    gray exterior, unknown interior   no accidents reported, 1 owner   \n",
              "2839     white exterior, black interior   no accidents reported, 1 owner   \n",
              "\n",
              "      price      montadora     nome color_exterior color_interior  \\\n",
              "2835   8995           ford   escape         silver        unknown   \n",
              "2836   9495  mercedes-benz  r-class          black          black   \n",
              "2837  29999  mercedes-benz      glc           gray           gray   \n",
              "2838  22992          honda     cr-v           gray        unknown   \n",
              "2839  24135          honda    civic          white          black   \n",
              "\n",
              "      accidents_reported    owners  \n",
              "2835            2.875457  1.723272  \n",
              "2836            1.204774  1.723272  \n",
              "2837           -0.465909  0.568733  \n",
              "2838           -0.465909 -0.585807  \n",
              "2839           -0.465909 -0.585807  "
            ]
          },
          "execution_count": 35,
          "metadata": {},
          "output_type": "execute_result"
        }
      ],
      "source": [
        "df.tail()"
      ]
    },
    {
      "cell_type": "code",
      "execution_count": 36,
      "metadata": {
        "colab": {
          "base_uri": "https://localhost:8080/"
        },
        "id": "Iny9RCLzhokk",
        "outputId": "2f8f24a3-5f73-4a17-e5d2-de94a736816c"
      },
      "outputs": [
        {
          "name": "stdout",
          "output_type": "stream",
          "text": [
            "<class 'pandas.core.frame.DataFrame'>\n",
            "RangeIndex: 2840 entries, 0 to 2839\n",
            "Data columns (total 12 columns):\n",
            " #   Column              Non-Null Count  Dtype  \n",
            "---  ------              --------------  -----  \n",
            " 0   name                2840 non-null   object \n",
            " 1   year                2840 non-null   int64  \n",
            " 2   miles               2840 non-null   float64\n",
            " 3   color               2840 non-null   object \n",
            " 4   condition           2840 non-null   object \n",
            " 5   price               2840 non-null   int64  \n",
            " 6   montadora           2840 non-null   object \n",
            " 7   nome                2840 non-null   object \n",
            " 8   color_exterior      2840 non-null   object \n",
            " 9   color_interior      2840 non-null   object \n",
            " 10  accidents_reported  2840 non-null   float64\n",
            " 11  owners              2840 non-null   float64\n",
            "dtypes: float64(3), int64(2), object(7)\n",
            "memory usage: 266.4+ KB\n"
          ]
        }
      ],
      "source": [
        "df.info()"
      ]
    },
    {
      "cell_type": "code",
      "execution_count": 37,
      "metadata": {
        "id": "bSfmnmjYhwo-"
      },
      "outputs": [],
      "source": [
        "df['year'] = df['year'].apply(lambda ano: str(ano))"
      ]
    },
    {
      "cell_type": "code",
      "execution_count": 38,
      "metadata": {
        "id": "FrWcAev-h5S_"
      },
      "outputs": [],
      "source": [
        "# criação de um novo DataFrame com as colunas padronizadas\n",
        "\n",
        "df_carros = df[[\n",
        "    'montadora',\n",
        "    'nome',\n",
        "    'year',\n",
        "    'miles',\n",
        "    'color_exterior',\n",
        "    'color_interior',\n",
        "    'accidents_reported',\n",
        "    'owners',\n",
        "    'price'\n",
        "]]"
      ]
    },
    {
      "cell_type": "code",
      "execution_count": 39,
      "metadata": {
        "colab": {
          "base_uri": "https://localhost:8080/",
          "height": 206
        },
        "id": "YQxovp7Iietc",
        "outputId": "d7f6ff1f-23cf-4639-b9c3-2c75043f1468"
      },
      "outputs": [
        {
          "data": {
            "text/html": [
              "<div>\n",
              "<style scoped>\n",
              "    .dataframe tbody tr th:only-of-type {\n",
              "        vertical-align: middle;\n",
              "    }\n",
              "\n",
              "    .dataframe tbody tr th {\n",
              "        vertical-align: top;\n",
              "    }\n",
              "\n",
              "    .dataframe thead th {\n",
              "        text-align: right;\n",
              "    }\n",
              "</style>\n",
              "<table border=\"1\" class=\"dataframe\">\n",
              "  <thead>\n",
              "    <tr style=\"text-align: right;\">\n",
              "      <th></th>\n",
              "      <th>montadora</th>\n",
              "      <th>nome</th>\n",
              "      <th>year</th>\n",
              "      <th>miles</th>\n",
              "      <th>color_exterior</th>\n",
              "      <th>color_interior</th>\n",
              "      <th>accidents_reported</th>\n",
              "      <th>owners</th>\n",
              "      <th>price</th>\n",
              "    </tr>\n",
              "  </thead>\n",
              "  <tbody>\n",
              "    <tr>\n",
              "      <th>2835</th>\n",
              "      <td>ford</td>\n",
              "      <td>escape</td>\n",
              "      <td>2013</td>\n",
              "      <td>1.328380</td>\n",
              "      <td>silver</td>\n",
              "      <td>unknown</td>\n",
              "      <td>2.875457</td>\n",
              "      <td>1.723272</td>\n",
              "      <td>8995</td>\n",
              "    </tr>\n",
              "    <tr>\n",
              "      <th>2836</th>\n",
              "      <td>mercedes-benz</td>\n",
              "      <td>r-class</td>\n",
              "      <td>2009</td>\n",
              "      <td>1.933959</td>\n",
              "      <td>black</td>\n",
              "      <td>black</td>\n",
              "      <td>1.204774</td>\n",
              "      <td>1.723272</td>\n",
              "      <td>9495</td>\n",
              "    </tr>\n",
              "    <tr>\n",
              "      <th>2837</th>\n",
              "      <td>mercedes-benz</td>\n",
              "      <td>glc</td>\n",
              "      <td>2022</td>\n",
              "      <td>-0.609730</td>\n",
              "      <td>gray</td>\n",
              "      <td>gray</td>\n",
              "      <td>-0.465909</td>\n",
              "      <td>0.568733</td>\n",
              "      <td>29999</td>\n",
              "    </tr>\n",
              "    <tr>\n",
              "      <th>2838</th>\n",
              "      <td>honda</td>\n",
              "      <td>cr-v</td>\n",
              "      <td>2021</td>\n",
              "      <td>0.002235</td>\n",
              "      <td>gray</td>\n",
              "      <td>unknown</td>\n",
              "      <td>-0.465909</td>\n",
              "      <td>-0.585807</td>\n",
              "      <td>22992</td>\n",
              "    </tr>\n",
              "    <tr>\n",
              "      <th>2839</th>\n",
              "      <td>honda</td>\n",
              "      <td>civic</td>\n",
              "      <td>2021</td>\n",
              "      <td>-0.647666</td>\n",
              "      <td>white</td>\n",
              "      <td>black</td>\n",
              "      <td>-0.465909</td>\n",
              "      <td>-0.585807</td>\n",
              "      <td>24135</td>\n",
              "    </tr>\n",
              "  </tbody>\n",
              "</table>\n",
              "</div>"
            ],
            "text/plain": [
              "          montadora     nome  year     miles color_exterior color_interior  \\\n",
              "2835           ford   escape  2013  1.328380         silver        unknown   \n",
              "2836  mercedes-benz  r-class  2009  1.933959          black          black   \n",
              "2837  mercedes-benz      glc  2022 -0.609730           gray           gray   \n",
              "2838          honda     cr-v  2021  0.002235           gray        unknown   \n",
              "2839          honda    civic  2021 -0.647666          white          black   \n",
              "\n",
              "      accidents_reported    owners  price  \n",
              "2835            2.875457  1.723272   8995  \n",
              "2836            1.204774  1.723272   9495  \n",
              "2837           -0.465909  0.568733  29999  \n",
              "2838           -0.465909 -0.585807  22992  \n",
              "2839           -0.465909 -0.585807  24135  "
            ]
          },
          "execution_count": 39,
          "metadata": {},
          "output_type": "execute_result"
        }
      ],
      "source": [
        "df_carros.tail()"
      ]
    },
    {
      "cell_type": "code",
      "execution_count": 40,
      "metadata": {
        "colab": {
          "base_uri": "https://localhost:8080/"
        },
        "id": "XlWMl3zOvJke",
        "outputId": "aaee56df-cecd-4753-8a85-7f23966bbb15"
      },
      "outputs": [
        {
          "name": "stdout",
          "output_type": "stream",
          "text": [
            "<class 'pandas.core.frame.DataFrame'>\n",
            "RangeIndex: 2840 entries, 0 to 2839\n",
            "Data columns (total 9 columns):\n",
            " #   Column              Non-Null Count  Dtype  \n",
            "---  ------              --------------  -----  \n",
            " 0   montadora           2840 non-null   object \n",
            " 1   nome                2840 non-null   object \n",
            " 2   year                2840 non-null   object \n",
            " 3   miles               2840 non-null   float64\n",
            " 4   color_exterior      2840 non-null   object \n",
            " 5   color_interior      2840 non-null   object \n",
            " 6   accidents_reported  2840 non-null   float64\n",
            " 7   owners              2840 non-null   float64\n",
            " 8   price               2840 non-null   int64  \n",
            "dtypes: float64(3), int64(1), object(5)\n",
            "memory usage: 199.8+ KB\n"
          ]
        }
      ],
      "source": [
        "df_carros.info()"
      ]
    },
    {
      "cell_type": "code",
      "execution_count": 41,
      "metadata": {
        "id": "nD_CT9rv64Kt"
      },
      "outputs": [],
      "source": [
        "# codificação dos vlaores de todas as colunas utilizando o metodo one hot encoding e padronizando os valores em floats\n",
        "\n",
        "df_carros_encoded = pd.get_dummies(df_carros, columns=['montadora','nome','year','color_exterior','color_interior'])"
      ]
    },
    {
      "cell_type": "code",
      "execution_count": 42,
      "metadata": {
        "id": "idkF8fko7YGN"
      },
      "outputs": [
        {
          "name": "stdout",
          "output_type": "stream",
          "text": [
            "<class 'pandas.core.frame.DataFrame'>\n",
            "RangeIndex: 2840 entries, 0 to 2839\n",
            "Columns: 405 entries, miles to color_interior_yellow\n",
            "dtypes: float64(3), int64(1), uint8(401)\n",
            "memory usage: 1.2 MB\n"
          ]
        }
      ],
      "source": [
        "df_carros_encoded.info()"
      ]
    },
    {
      "cell_type": "markdown",
      "metadata": {
        "id": "51CzoS-jGY30"
      },
      "source": [
        "## O modelo utilizado para o terinamento será de regressão linear"
      ]
    },
    {
      "cell_type": "code",
      "execution_count": 43,
      "metadata": {
        "id": "wYZUgXdixbPB"
      },
      "outputs": [],
      "source": [
        "from sklearn.linear_model import LinearRegression"
      ]
    },
    {
      "cell_type": "code",
      "execution_count": 44,
      "metadata": {
        "id": "Q_RPZs5VxdSs"
      },
      "outputs": [],
      "source": [
        "model = LinearRegression()"
      ]
    },
    {
      "cell_type": "code",
      "execution_count": 45,
      "metadata": {
        "id": "aiKk-uvzxlag"
      },
      "outputs": [],
      "source": [
        "from sklearn.model_selection import train_test_split"
      ]
    },
    {
      "cell_type": "code",
      "execution_count": 46,
      "metadata": {
        "id": "0oBit5wAxm53"
      },
      "outputs": [],
      "source": [
        "# Aqui separamos os dados em variaveis preditoras de treino e teste e a variável resposta em treino e teste\n",
        "\n",
        "predictors_train, predictors_test, target_train, target_test = train_test_split(\n",
        "    df_carros_encoded.drop(['price'], axis=1),\n",
        "    df_carros_encoded['price'],\n",
        "    test_size=0.25, # 0.25 ´significa 1/4 dos dados foi pra teste e o restante treino\n",
        "    random_state=123\n",
        ")"
      ]
    },
    {
      "cell_type": "code",
      "execution_count": 47,
      "metadata": {
        "id": "smW6w_TnyrOG"
      },
      "outputs": [
        {
          "data": {
            "text/html": [
              "<div>\n",
              "<style scoped>\n",
              "    .dataframe tbody tr th:only-of-type {\n",
              "        vertical-align: middle;\n",
              "    }\n",
              "\n",
              "    .dataframe tbody tr th {\n",
              "        vertical-align: top;\n",
              "    }\n",
              "\n",
              "    .dataframe thead th {\n",
              "        text-align: right;\n",
              "    }\n",
              "</style>\n",
              "<table border=\"1\" class=\"dataframe\">\n",
              "  <thead>\n",
              "    <tr style=\"text-align: right;\">\n",
              "      <th></th>\n",
              "      <th>miles</th>\n",
              "      <th>accidents_reported</th>\n",
              "      <th>owners</th>\n",
              "      <th>montadora_acura</th>\n",
              "      <th>montadora_alfa_romeo</th>\n",
              "      <th>montadora_aston_martin</th>\n",
              "      <th>montadora_audi</th>\n",
              "      <th>montadora_bentley</th>\n",
              "      <th>montadora_bmw</th>\n",
              "      <th>montadora_buick</th>\n",
              "      <th>...</th>\n",
              "      <th>color_interior_black</th>\n",
              "      <th>color_interior_blue</th>\n",
              "      <th>color_interior_brown</th>\n",
              "      <th>color_interior_gray</th>\n",
              "      <th>color_interior_green</th>\n",
              "      <th>color_interior_orange</th>\n",
              "      <th>color_interior_red</th>\n",
              "      <th>color_interior_unknown</th>\n",
              "      <th>color_interior_white</th>\n",
              "      <th>color_interior_yellow</th>\n",
              "    </tr>\n",
              "  </thead>\n",
              "  <tbody>\n",
              "    <tr>\n",
              "      <th>2053</th>\n",
              "      <td>2.504563</td>\n",
              "      <td>2.875457</td>\n",
              "      <td>0.568733</td>\n",
              "      <td>0</td>\n",
              "      <td>0</td>\n",
              "      <td>0</td>\n",
              "      <td>0</td>\n",
              "      <td>0</td>\n",
              "      <td>0</td>\n",
              "      <td>0</td>\n",
              "      <td>...</td>\n",
              "      <td>0</td>\n",
              "      <td>0</td>\n",
              "      <td>0</td>\n",
              "      <td>0</td>\n",
              "      <td>0</td>\n",
              "      <td>0</td>\n",
              "      <td>0</td>\n",
              "      <td>1</td>\n",
              "      <td>0</td>\n",
              "      <td>0</td>\n",
              "    </tr>\n",
              "    <tr>\n",
              "      <th>318</th>\n",
              "      <td>0.949897</td>\n",
              "      <td>1.204774</td>\n",
              "      <td>1.723272</td>\n",
              "      <td>0</td>\n",
              "      <td>0</td>\n",
              "      <td>0</td>\n",
              "      <td>0</td>\n",
              "      <td>0</td>\n",
              "      <td>0</td>\n",
              "      <td>0</td>\n",
              "      <td>...</td>\n",
              "      <td>1</td>\n",
              "      <td>0</td>\n",
              "      <td>0</td>\n",
              "      <td>0</td>\n",
              "      <td>0</td>\n",
              "      <td>0</td>\n",
              "      <td>0</td>\n",
              "      <td>0</td>\n",
              "      <td>0</td>\n",
              "      <td>0</td>\n",
              "    </tr>\n",
              "    <tr>\n",
              "      <th>2838</th>\n",
              "      <td>0.002235</td>\n",
              "      <td>-0.465909</td>\n",
              "      <td>-0.585807</td>\n",
              "      <td>0</td>\n",
              "      <td>0</td>\n",
              "      <td>0</td>\n",
              "      <td>0</td>\n",
              "      <td>0</td>\n",
              "      <td>0</td>\n",
              "      <td>0</td>\n",
              "      <td>...</td>\n",
              "      <td>0</td>\n",
              "      <td>0</td>\n",
              "      <td>0</td>\n",
              "      <td>0</td>\n",
              "      <td>0</td>\n",
              "      <td>0</td>\n",
              "      <td>0</td>\n",
              "      <td>1</td>\n",
              "      <td>0</td>\n",
              "      <td>0</td>\n",
              "    </tr>\n",
              "    <tr>\n",
              "      <th>2674</th>\n",
              "      <td>-0.521852</td>\n",
              "      <td>1.204774</td>\n",
              "      <td>-0.585807</td>\n",
              "      <td>0</td>\n",
              "      <td>0</td>\n",
              "      <td>0</td>\n",
              "      <td>0</td>\n",
              "      <td>0</td>\n",
              "      <td>0</td>\n",
              "      <td>0</td>\n",
              "      <td>...</td>\n",
              "      <td>1</td>\n",
              "      <td>0</td>\n",
              "      <td>0</td>\n",
              "      <td>0</td>\n",
              "      <td>0</td>\n",
              "      <td>0</td>\n",
              "      <td>0</td>\n",
              "      <td>0</td>\n",
              "      <td>0</td>\n",
              "      <td>0</td>\n",
              "    </tr>\n",
              "    <tr>\n",
              "      <th>735</th>\n",
              "      <td>1.704616</td>\n",
              "      <td>-0.465909</td>\n",
              "      <td>-0.585807</td>\n",
              "      <td>0</td>\n",
              "      <td>0</td>\n",
              "      <td>0</td>\n",
              "      <td>0</td>\n",
              "      <td>0</td>\n",
              "      <td>0</td>\n",
              "      <td>0</td>\n",
              "      <td>...</td>\n",
              "      <td>0</td>\n",
              "      <td>0</td>\n",
              "      <td>0</td>\n",
              "      <td>1</td>\n",
              "      <td>0</td>\n",
              "      <td>0</td>\n",
              "      <td>0</td>\n",
              "      <td>0</td>\n",
              "      <td>0</td>\n",
              "      <td>0</td>\n",
              "    </tr>\n",
              "  </tbody>\n",
              "</table>\n",
              "<p>5 rows × 404 columns</p>\n",
              "</div>"
            ],
            "text/plain": [
              "         miles  accidents_reported    owners  montadora_acura  \\\n",
              "2053  2.504563            2.875457  0.568733                0   \n",
              "318   0.949897            1.204774  1.723272                0   \n",
              "2838  0.002235           -0.465909 -0.585807                0   \n",
              "2674 -0.521852            1.204774 -0.585807                0   \n",
              "735   1.704616           -0.465909 -0.585807                0   \n",
              "\n",
              "      montadora_alfa_romeo  montadora_aston_martin  montadora_audi  \\\n",
              "2053                     0                       0               0   \n",
              "318                      0                       0               0   \n",
              "2838                     0                       0               0   \n",
              "2674                     0                       0               0   \n",
              "735                      0                       0               0   \n",
              "\n",
              "      montadora_bentley  montadora_bmw  montadora_buick  ...  \\\n",
              "2053                  0              0                0  ...   \n",
              "318                   0              0                0  ...   \n",
              "2838                  0              0                0  ...   \n",
              "2674                  0              0                0  ...   \n",
              "735                   0              0                0  ...   \n",
              "\n",
              "      color_interior_black  color_interior_blue  color_interior_brown  \\\n",
              "2053                     0                    0                     0   \n",
              "318                      1                    0                     0   \n",
              "2838                     0                    0                     0   \n",
              "2674                     1                    0                     0   \n",
              "735                      0                    0                     0   \n",
              "\n",
              "      color_interior_gray  color_interior_green  color_interior_orange  \\\n",
              "2053                    0                     0                      0   \n",
              "318                     0                     0                      0   \n",
              "2838                    0                     0                      0   \n",
              "2674                    0                     0                      0   \n",
              "735                     1                     0                      0   \n",
              "\n",
              "      color_interior_red  color_interior_unknown  color_interior_white  \\\n",
              "2053                   0                       1                     0   \n",
              "318                    0                       0                     0   \n",
              "2838                   0                       1                     0   \n",
              "2674                   0                       0                     0   \n",
              "735                    0                       0                     0   \n",
              "\n",
              "      color_interior_yellow  \n",
              "2053                      0  \n",
              "318                       0  \n",
              "2838                      0  \n",
              "2674                      0  \n",
              "735                       0  \n",
              "\n",
              "[5 rows x 404 columns]"
            ]
          },
          "execution_count": 47,
          "metadata": {},
          "output_type": "execute_result"
        }
      ],
      "source": [
        "predictors_train.head()"
      ]
    },
    {
      "cell_type": "code",
      "execution_count": 48,
      "metadata": {
        "id": "_upWwVeWyxBG"
      },
      "outputs": [
        {
          "data": {
            "text/plain": [
              "(2130, 404)"
            ]
          },
          "execution_count": 48,
          "metadata": {},
          "output_type": "execute_result"
        }
      ],
      "source": [
        "predictors_train.shape"
      ]
    },
    {
      "cell_type": "code",
      "execution_count": 49,
      "metadata": {
        "id": "CscSGPgFzKiX"
      },
      "outputs": [
        {
          "data": {
            "text/html": [
              "<div>\n",
              "<style scoped>\n",
              "    .dataframe tbody tr th:only-of-type {\n",
              "        vertical-align: middle;\n",
              "    }\n",
              "\n",
              "    .dataframe tbody tr th {\n",
              "        vertical-align: top;\n",
              "    }\n",
              "\n",
              "    .dataframe thead th {\n",
              "        text-align: right;\n",
              "    }\n",
              "</style>\n",
              "<table border=\"1\" class=\"dataframe\">\n",
              "  <thead>\n",
              "    <tr style=\"text-align: right;\">\n",
              "      <th></th>\n",
              "      <th>miles</th>\n",
              "      <th>accidents_reported</th>\n",
              "      <th>owners</th>\n",
              "      <th>montadora_acura</th>\n",
              "      <th>montadora_alfa_romeo</th>\n",
              "      <th>montadora_aston_martin</th>\n",
              "      <th>montadora_audi</th>\n",
              "      <th>montadora_bentley</th>\n",
              "      <th>montadora_bmw</th>\n",
              "      <th>montadora_buick</th>\n",
              "      <th>...</th>\n",
              "      <th>color_interior_black</th>\n",
              "      <th>color_interior_blue</th>\n",
              "      <th>color_interior_brown</th>\n",
              "      <th>color_interior_gray</th>\n",
              "      <th>color_interior_green</th>\n",
              "      <th>color_interior_orange</th>\n",
              "      <th>color_interior_red</th>\n",
              "      <th>color_interior_unknown</th>\n",
              "      <th>color_interior_white</th>\n",
              "      <th>color_interior_yellow</th>\n",
              "    </tr>\n",
              "  </thead>\n",
              "  <tbody>\n",
              "    <tr>\n",
              "      <th>1503</th>\n",
              "      <td>1.152844</td>\n",
              "      <td>-0.465909</td>\n",
              "      <td>1.723272</td>\n",
              "      <td>0</td>\n",
              "      <td>0</td>\n",
              "      <td>0</td>\n",
              "      <td>0</td>\n",
              "      <td>0</td>\n",
              "      <td>0</td>\n",
              "      <td>0</td>\n",
              "      <td>...</td>\n",
              "      <td>0</td>\n",
              "      <td>0</td>\n",
              "      <td>0</td>\n",
              "      <td>1</td>\n",
              "      <td>0</td>\n",
              "      <td>0</td>\n",
              "      <td>0</td>\n",
              "      <td>0</td>\n",
              "      <td>0</td>\n",
              "      <td>0</td>\n",
              "    </tr>\n",
              "    <tr>\n",
              "      <th>2474</th>\n",
              "      <td>-0.504858</td>\n",
              "      <td>-0.465909</td>\n",
              "      <td>-0.585807</td>\n",
              "      <td>0</td>\n",
              "      <td>0</td>\n",
              "      <td>0</td>\n",
              "      <td>0</td>\n",
              "      <td>0</td>\n",
              "      <td>0</td>\n",
              "      <td>0</td>\n",
              "      <td>...</td>\n",
              "      <td>1</td>\n",
              "      <td>0</td>\n",
              "      <td>0</td>\n",
              "      <td>0</td>\n",
              "      <td>0</td>\n",
              "      <td>0</td>\n",
              "      <td>0</td>\n",
              "      <td>0</td>\n",
              "      <td>0</td>\n",
              "      <td>0</td>\n",
              "    </tr>\n",
              "    <tr>\n",
              "      <th>2311</th>\n",
              "      <td>1.515402</td>\n",
              "      <td>4.546139</td>\n",
              "      <td>0.568733</td>\n",
              "      <td>0</td>\n",
              "      <td>0</td>\n",
              "      <td>0</td>\n",
              "      <td>0</td>\n",
              "      <td>0</td>\n",
              "      <td>1</td>\n",
              "      <td>0</td>\n",
              "      <td>...</td>\n",
              "      <td>0</td>\n",
              "      <td>0</td>\n",
              "      <td>0</td>\n",
              "      <td>0</td>\n",
              "      <td>0</td>\n",
              "      <td>0</td>\n",
              "      <td>0</td>\n",
              "      <td>1</td>\n",
              "      <td>0</td>\n",
              "      <td>0</td>\n",
              "    </tr>\n",
              "    <tr>\n",
              "      <th>937</th>\n",
              "      <td>-0.544247</td>\n",
              "      <td>1.204774</td>\n",
              "      <td>-0.585807</td>\n",
              "      <td>0</td>\n",
              "      <td>0</td>\n",
              "      <td>0</td>\n",
              "      <td>0</td>\n",
              "      <td>0</td>\n",
              "      <td>0</td>\n",
              "      <td>0</td>\n",
              "      <td>...</td>\n",
              "      <td>1</td>\n",
              "      <td>0</td>\n",
              "      <td>0</td>\n",
              "      <td>0</td>\n",
              "      <td>0</td>\n",
              "      <td>0</td>\n",
              "      <td>0</td>\n",
              "      <td>0</td>\n",
              "      <td>0</td>\n",
              "      <td>0</td>\n",
              "    </tr>\n",
              "    <tr>\n",
              "      <th>1213</th>\n",
              "      <td>0.249807</td>\n",
              "      <td>-0.465909</td>\n",
              "      <td>-0.585807</td>\n",
              "      <td>0</td>\n",
              "      <td>0</td>\n",
              "      <td>0</td>\n",
              "      <td>0</td>\n",
              "      <td>0</td>\n",
              "      <td>0</td>\n",
              "      <td>0</td>\n",
              "      <td>...</td>\n",
              "      <td>0</td>\n",
              "      <td>0</td>\n",
              "      <td>0</td>\n",
              "      <td>0</td>\n",
              "      <td>0</td>\n",
              "      <td>0</td>\n",
              "      <td>0</td>\n",
              "      <td>1</td>\n",
              "      <td>0</td>\n",
              "      <td>0</td>\n",
              "    </tr>\n",
              "  </tbody>\n",
              "</table>\n",
              "<p>5 rows × 404 columns</p>\n",
              "</div>"
            ],
            "text/plain": [
              "         miles  accidents_reported    owners  montadora_acura  \\\n",
              "1503  1.152844           -0.465909  1.723272                0   \n",
              "2474 -0.504858           -0.465909 -0.585807                0   \n",
              "2311  1.515402            4.546139  0.568733                0   \n",
              "937  -0.544247            1.204774 -0.585807                0   \n",
              "1213  0.249807           -0.465909 -0.585807                0   \n",
              "\n",
              "      montadora_alfa_romeo  montadora_aston_martin  montadora_audi  \\\n",
              "1503                     0                       0               0   \n",
              "2474                     0                       0               0   \n",
              "2311                     0                       0               0   \n",
              "937                      0                       0               0   \n",
              "1213                     0                       0               0   \n",
              "\n",
              "      montadora_bentley  montadora_bmw  montadora_buick  ...  \\\n",
              "1503                  0              0                0  ...   \n",
              "2474                  0              0                0  ...   \n",
              "2311                  0              1                0  ...   \n",
              "937                   0              0                0  ...   \n",
              "1213                  0              0                0  ...   \n",
              "\n",
              "      color_interior_black  color_interior_blue  color_interior_brown  \\\n",
              "1503                     0                    0                     0   \n",
              "2474                     1                    0                     0   \n",
              "2311                     0                    0                     0   \n",
              "937                      1                    0                     0   \n",
              "1213                     0                    0                     0   \n",
              "\n",
              "      color_interior_gray  color_interior_green  color_interior_orange  \\\n",
              "1503                    1                     0                      0   \n",
              "2474                    0                     0                      0   \n",
              "2311                    0                     0                      0   \n",
              "937                     0                     0                      0   \n",
              "1213                    0                     0                      0   \n",
              "\n",
              "      color_interior_red  color_interior_unknown  color_interior_white  \\\n",
              "1503                   0                       0                     0   \n",
              "2474                   0                       0                     0   \n",
              "2311                   0                       1                     0   \n",
              "937                    0                       0                     0   \n",
              "1213                   0                       1                     0   \n",
              "\n",
              "      color_interior_yellow  \n",
              "1503                      0  \n",
              "2474                      0  \n",
              "2311                      0  \n",
              "937                       0  \n",
              "1213                      0  \n",
              "\n",
              "[5 rows x 404 columns]"
            ]
          },
          "execution_count": 49,
          "metadata": {},
          "output_type": "execute_result"
        }
      ],
      "source": [
        "predictors_test.head()"
      ]
    },
    {
      "cell_type": "code",
      "execution_count": 50,
      "metadata": {
        "id": "6d6btG8IzOsA"
      },
      "outputs": [
        {
          "data": {
            "text/plain": [
              "(710, 404)"
            ]
          },
          "execution_count": 50,
          "metadata": {},
          "output_type": "execute_result"
        }
      ],
      "source": [
        "predictors_test.shape"
      ]
    },
    {
      "cell_type": "code",
      "execution_count": 51,
      "metadata": {
        "id": "UIHwNoDQzaum"
      },
      "outputs": [
        {
          "data": {
            "text/plain": [
              "2053     5995\n",
              "318     17998\n",
              "2838    22992\n",
              "2674    19999\n",
              "735     19998\n",
              "Name: price, dtype: int64"
            ]
          },
          "execution_count": 51,
          "metadata": {},
          "output_type": "execute_result"
        }
      ],
      "source": [
        "target_train.head()"
      ]
    },
    {
      "cell_type": "code",
      "execution_count": 52,
      "metadata": {
        "id": "14sY42quzhhu"
      },
      "outputs": [
        {
          "data": {
            "text/plain": [
              "1503    22998\n",
              "2474    17995\n",
              "2311     9995\n",
              "937     31187\n",
              "1213    29995\n",
              "Name: price, dtype: int64"
            ]
          },
          "execution_count": 52,
          "metadata": {},
          "output_type": "execute_result"
        }
      ],
      "source": [
        "target_test.head()"
      ]
    },
    {
      "cell_type": "code",
      "execution_count": 53,
      "metadata": {
        "id": "dAB227Mnzx7X"
      },
      "outputs": [],
      "source": [
        "model = model.fit(predictors_train, target_train)"
      ]
    },
    {
      "cell_type": "code",
      "execution_count": 54,
      "metadata": {
        "id": "ldyJF799--qb"
      },
      "outputs": [
        {
          "data": {
            "text/plain": [
              "{'fit_intercept': True,\n",
              " 'copy_X': True,\n",
              " 'n_jobs': None,\n",
              " 'positive': False,\n",
              " 'feature_names_in_': array(['miles', 'accidents_reported', 'owners', 'montadora_acura',\n",
              "        'montadora_alfa_romeo', 'montadora_aston_martin', 'montadora_audi',\n",
              "        'montadora_bentley', 'montadora_bmw', 'montadora_buick',\n",
              "        'montadora_cadillac', 'montadora_chevrolet', 'montadora_chrysler',\n",
              "        'montadora_dodge', 'montadora_fiat', 'montadora_ford',\n",
              "        'montadora_genesis', 'montadora_gmc', 'montadora_honda',\n",
              "        'montadora_hyundai', 'montadora_infiniti', 'montadora_jaguar',\n",
              "        'montadora_jeep', 'montadora_karma', 'montadora_kia',\n",
              "        'montadora_land_rover', 'montadora_land_rovver', 'montadora_lexus',\n",
              "        'montadora_lincoln', 'montadora_maserati', 'montadora_mazda',\n",
              "        'montadora_mclaren', 'montadora_mercedes-benz', 'montadora_mini',\n",
              "        'montadora_mitsubishi', 'montadora_nissan', 'montadora_pontiac',\n",
              "        'montadora_porsche', 'montadora_ram', 'montadora_rolls-royce',\n",
              "        'montadora_saturn', 'montadora_scion', 'montadora_subaru',\n",
              "        'montadora_toyota', 'montadora_volkswagen', 'montadora_volvo',\n",
              "        'nome_124 spider', 'nome_1500', 'nome_1500 classic',\n",
              "        'nome_2 series', 'nome_200', 'nome_2500', 'nome_3 series',\n",
              "        'nome_300', 'nome_4 series', 'nome_4runner', 'nome_5 series',\n",
              "        'nome_500', 'nome_6 series', 'nome_7 series', 'nome_718 cayman',\n",
              "        'nome_720s', 'nome_911', 'nome_a-class', 'nome_a3', 'nome_a4',\n",
              "        'nome_a5', 'nome_a6', 'nome_a7', 'nome_a8', 'nome_acadia',\n",
              "        'nome_accent', 'nome_accord', 'nome_allroad', 'nome_altima',\n",
              "        'nome_armada', 'nome_ascent', 'nome_atlas',\n",
              "        'nome_atlas cross sport', 'nome_ats-v', 'nome_aura', 'nome_avalon',\n",
              "        'nome_b9 tribeca', 'nome_beetle', 'nome_blazer', 'nome_boxster',\n",
              "        'nome_bronco', 'nome_bronco sport', 'nome_brz', 'nome_c-class',\n",
              "        'nome_c-hr', 'nome_camaro', 'nome_camry', 'nome_canyon',\n",
              "        'nome_cascada', 'nome_cayenne', 'nome_cayman', 'nome_cc',\n",
              "        'nome_challenger', 'nome_charger', 'nome_cherokee', 'nome_civic',\n",
              "        'nome_cl', 'nome_cla', 'nome_clk', 'nome_cls', 'nome_clubman',\n",
              "        'nome_colorado', 'nome_compass', 'nome_corolla',\n",
              "        'nome_corolla cross', 'nome_corolla hatchback', 'nome_corvette',\n",
              "        'nome_countryman', 'nome_cr-v', 'nome_cr-z', 'nome_crosstour',\n",
              "        'nome_crosstrek', 'nome_cruze', 'nome_cruze limited', 'nome_ct',\n",
              "        'nome_ct4', 'nome_cts', 'nome_cx-3', 'nome_cx-30', 'nome_cx-5',\n",
              "        'nome_cx-9', 'nome_cx-90', 'nome_dawn', 'nome_db9',\n",
              "        'nome_defender', 'nome_discovery', 'nome_discovery sport',\n",
              "        'nome_durango', 'nome_e-class', 'nome_e-pace',\n",
              "        'nome_econoline cargo van', 'nome_ecosport', 'nome_edge',\n",
              "        'nome_elantra', 'nome_enclave', 'nome_encore', 'nome_encore gx',\n",
              "        'nome_equinox', 'nome_es', 'nome_escalade', 'nome_escape',\n",
              "        'nome_expedition', 'nome_explorer', 'nome_explorer sport trac',\n",
              "        'nome_express cargo van', 'nome_f-150', 'nome_f-pace',\n",
              "        'nome_fiesta', 'nome_fit', 'nome_flying spur', 'nome_focus',\n",
              "        'nome_forester', 'nome_forte', 'nome_fr-s', 'nome_frontier',\n",
              "        'nome_fusion', 'nome_g-class', 'nome_g70', 'nome_g80',\n",
              "        'nome_genesis', 'nome_ghibli', 'nome_giulia', 'nome_gl',\n",
              "        'nome_gla', 'nome_gladiator', 'nome_glb', 'nome_glc', 'nome_gle',\n",
              "        'nome_glk', 'nome_gls', 'nome_golf', 'nome_golf alltrack',\n",
              "        'nome_golf gti', 'nome_gr corolla', 'nome_gr supra',\n",
              "        'nome_grand caravan', 'nome_grand cherokee',\n",
              "        'nome_grand cherokee wk', 'nome_granturismo', 'nome_gx',\n",
              "        'nome_hardtop', 'nome_highlander', 'nome_hr-v', 'nome_i3',\n",
              "        'nome_ilx', 'nome_impala', 'nome_impala limited', 'nome_impreza',\n",
              "        'nome_integra', 'nome_is', 'nome_jetta', 'nome_journey', 'nome_k5',\n",
              "        'nome_kicks', 'nome_kona', 'nome_legacy', 'nome_levante',\n",
              "        'nome_lr4', 'nome_ls', 'nome_lx', 'nome_m-class', 'nome_m5',\n",
              "        'nome_m6', 'nome_macan', 'nome_malibu', 'nome_maxima',\n",
              "        'nome_mazda3', 'nome_mazda6', 'nome_mdx', 'nome_metris cargo van',\n",
              "        'nome_mirai', 'nome_mkc', 'nome_mkx', 'nome_monte carlo',\n",
              "        'nome_murano', 'nome_mustang', 'nome_nautilus', 'nome_nexo',\n",
              "        'nome_nv200 compact cargo', 'nome_nx', 'nome_odyssey',\n",
              "        'nome_optima', 'nome_outback', 'nome_outlander',\n",
              "        'nome_outlander sport', 'nome_pacifica', 'nome_palisade',\n",
              "        'nome_passat', 'nome_passport', 'nome_pathfinder', 'nome_patriot',\n",
              "        'nome_pilot', 'nome_prius', 'nome_prius c', 'nome_prius prime',\n",
              "        'nome_prius v', 'nome_promaster cargo van',\n",
              "        'nome_promaster city cargo van', 'nome_q3', 'nome_q5', 'nome_q50',\n",
              "        'nome_q60', 'nome_q7', 'nome_q70', 'nome_q8', 'nome_quattroporte',\n",
              "        'nome_quest', 'nome_qx50', 'nome_qx55', 'nome_qx60',\n",
              "        'nome_r-class', 'nome_r8', 'nome_ram 1500', 'nome_range rover',\n",
              "        'nome_range rover evoque', 'nome_range rover sport',\n",
              "        'nome_range rover velar', 'nome_ranger', 'nome_rav4',\n",
              "        'nome_rav4 prime', 'nome_rc', 'nome_rdx', 'nome_revero gt',\n",
              "        'nome_rio', 'nome_rogue', 'nome_rogue sport', 'nome_routan',\n",
              "        'nome_rs 5', 'nome_rs 6 avant', 'nome_rx', 'nome_s-class',\n",
              "        'nome_s2000', 'nome_s3', 'nome_s60', 'nome_s7', 'nome_s80',\n",
              "        'nome_s90', 'nome_santa fe', 'nome_santa fe sport', 'nome_sedona',\n",
              "        'nome_seltos', 'nome_sentra', 'nome_sienna', 'nome_sierra 1500',\n",
              "        'nome_silverado 1500', 'nome_silverado 1500 ltd',\n",
              "        'nome_silverado 2500', 'nome_sl', 'nome_slc', 'nome_slk',\n",
              "        'nome_solstice', 'nome_sonata', 'nome_sorento', 'nome_soul',\n",
              "        'nome_spark', 'nome_sportage', 'nome_sprinter passenger van',\n",
              "        'nome_stelvio', 'nome_suburban', 'nome_super duty f-250',\n",
              "        'nome_super duty f-350', 'nome_super duty f-550 chassis cab',\n",
              "        'nome_tacoma', 'nome_tahoe', 'nome_taos', 'nome_taurus', 'nome_tc',\n",
              "        'nome_telluride', 'nome_terrain', 'nome_thunderbird',\n",
              "        'nome_tiguan', 'nome_titan', 'nome_tlx', 'nome_town & country',\n",
              "        'nome_trailblazer', 'nome_transit cargo van',\n",
              "        'nome_transit connect van', 'nome_transit passenger wagon',\n",
              "        'nome_traverse', 'nome_trax', 'nome_tts', 'nome_tucson',\n",
              "        'nome_tundra', 'nome_ux', 'nome_v60', 'nome_vantage', 'nome_venza',\n",
              "        'nome_versa', 'nome_volt', 'nome_wrangler', 'nome_wrx', 'nome_x1',\n",
              "        'nome_x3', 'nome_x4 m', 'nome_x5', 'nome_x6', 'nome_x7', 'nome_xb',\n",
              "        'nome_xc40', 'nome_xc60', 'nome_xc90', 'nome_xf', 'nome_xj',\n",
              "        'nome_xt4', 'nome_xt5', 'nome_xt6', 'nome_yaris ia', 'nome_yukon',\n",
              "        'nome_z3', 'year_2000', 'year_2002', 'year_2003', 'year_2004',\n",
              "        'year_2005', 'year_2006', 'year_2007', 'year_2008', 'year_2009',\n",
              "        'year_2010', 'year_2011', 'year_2012', 'year_2013', 'year_2014',\n",
              "        'year_2015', 'year_2016', 'year_2017', 'year_2018', 'year_2019',\n",
              "        'year_2020', 'year_2021', 'year_2022', 'year_2023', 'year_2024',\n",
              "        'color_exterior_black', 'color_exterior_blue',\n",
              "        'color_exterior_brown', 'color_exterior_gold',\n",
              "        'color_exterior_gray', 'color_exterior_green',\n",
              "        'color_exterior_orange', 'color_exterior_purple',\n",
              "        'color_exterior_red', 'color_exterior_silver',\n",
              "        'color_exterior_tan', 'color_exterior_unknown',\n",
              "        'color_exterior_white', 'color_exterior_yellow',\n",
              "        'color_interior_beige', 'color_interior_black',\n",
              "        'color_interior_blue', 'color_interior_brown',\n",
              "        'color_interior_gray', 'color_interior_green',\n",
              "        'color_interior_orange', 'color_interior_red',\n",
              "        'color_interior_unknown', 'color_interior_white',\n",
              "        'color_interior_yellow'], dtype=object),\n",
              " 'n_features_in_': 404,\n",
              " 'coef_': array([-3.57647106e+03, -2.08647608e+02,  3.09780474e+01, -1.00887410e+04,\n",
              "        -7.46935411e+03,  2.71339307e+04,  6.39341396e+03, -7.82165444e-11,\n",
              "        -2.01187231e+02, -1.11678343e+04, -2.35204291e+03, -9.02697240e+03,\n",
              "        -9.99946561e+03, -6.96607359e+03, -1.05050590e+04, -4.56019475e+03,\n",
              "        -5.55663356e+03, -3.37433429e+03, -7.54589035e+03, -1.43053680e+04,\n",
              "        -8.15828725e+03, -5.96042739e+03, -8.95145577e+03,  1.18130930e+04,\n",
              "        -1.47383707e+04,  3.55334239e+02, -5.91843368e+03, -2.17180368e+03,\n",
              "        -6.79293717e+03,  3.20259848e+02, -9.41188497e+03,  9.17968912e+04,\n",
              "        -3.19653452e+02, -1.08390688e+04, -1.13858151e+04, -1.36465320e+04,\n",
              "        -3.73522287e+03,  1.65625047e+04, -4.64038975e+03,  1.08565229e+05,\n",
              "        -2.62494411e+03, -1.16725991e+04, -1.11765717e+04, -9.13959461e+03,\n",
              "        -1.23594234e+04, -6.17809001e+03, -5.50340571e+03,  3.33483968e+03,\n",
              "        -7.00686903e+03, -1.05767508e+04, -4.92820620e+03,  3.95316712e+02,\n",
              "        -1.06953221e+04, -2.20873063e+03, -9.02230130e+03,  6.91749821e+03,\n",
              "        -3.50581363e+03, -5.00165332e+03, -4.80296581e+03, -3.32535047e+03,\n",
              "        -6.80367041e+02,  9.17968912e+04,  1.95265614e+04, -1.16634763e+04,\n",
              "        -2.28534450e+04, -1.89430398e+04, -1.36687557e+04, -1.29475135e+04,\n",
              "        -2.72848411e-11, -9.09494702e-12, -9.25460419e+03, -3.24153684e+03,\n",
              "        -5.73168332e+03, -1.54299658e+04, -2.43608770e+03, -3.45607987e-11,\n",
              "         4.91090367e+03,  3.38607020e+03,  2.27682734e+03,  8.42050749e+03,\n",
              "        -2.62494411e+03, -1.94549101e+03,  6.06847307e+03, -5.18491760e+02,\n",
              "        -3.95187761e+03, -4.36557457e-11,  1.50869138e+04, -7.67028133e+03,\n",
              "        -7.86105176e+02, -7.25333421e+03, -6.70824976e+03, -1.42038516e+03,\n",
              "        -3.56272399e+03,  7.41207848e+02, -2.14015977e+03,  1.86934263e+04,\n",
              "        -7.19619313e+03, -4.48359850e+03, -5.96020679e+02, -4.07891255e+03,\n",
              "        -6.52371233e+03, -6.96952430e+03,  4.04187408e+03, -1.00059378e+04,\n",
              "         2.13818314e+03,  8.01011240e+02, -3.66530598e+03, -1.92124160e+03,\n",
              "        -6.51399239e+03, -8.56578815e+03, -7.33831743e+03, -9.93483744e+03,\n",
              "         3.43883647e+04, -1.04400818e+03, -3.91066295e+03, -3.78596596e+03,\n",
              "        -6.48961560e+03, -3.01866362e+03, -8.32003377e+03, -5.79288585e+03,\n",
              "        -5.96383264e+03, -2.54658516e-11, -6.27855426e+03, -1.63709046e-11,\n",
              "        -5.92586173e+03, -4.57984385e+03, -9.13314652e+02,  1.07511732e+04,\n",
              "         1.08565229e+05, -1.12103843e+04,  2.71806459e+04, -9.57339547e+03,\n",
              "        -5.91843368e+03,  7.03322658e+03, -2.16300963e+03, -4.31947643e+03,\n",
              "         3.50027251e+03, -2.81943358e-11, -7.78219527e+03, -3.34239768e+03,\n",
              "         8.16697850e+03, -5.86062048e+03, -1.13340325e+04, -6.76975432e+03,\n",
              "        -3.09147808e+03,  1.94162131e+04, -1.11531435e+04,  1.11371422e+04,\n",
              "        -4.27164467e+03, -4.74547604e+02,  2.32915650e+03,  2.98737616e+03,\n",
              "         3.12963012e+02, -1.26971376e+04, -5.43956123e+03,  3.09228199e-11,\n",
              "        -1.15042014e+04, -2.23883200e+03, -7.69761826e+03, -7.81206383e+03,\n",
              "         1.60454799e+03, -9.87823329e+03,  4.07538008e+04, -7.96617080e+03,\n",
              "         2.40953723e+03,  3.80782480e+03, -1.65103681e+02, -5.23528706e+03,\n",
              "        -6.12716942e+03, -9.14275811e+03,  4.97557221e+03, -8.58538730e+03,\n",
              "        -6.70810473e+03,  3.67725869e+03, -1.00278451e+04,  8.12641409e+03,\n",
              "        -1.49302673e+03,  3.48386879e+03,  5.18949702e+02,  8.18545232e-12,\n",
              "         7.88631080e+03, -7.10304111e+03,  6.35338060e+02, -1.80451899e+03,\n",
              "         7.36449946e+03,  2.54658516e-11, -6.12975466e+03,  4.09695655e+03,\n",
              "        -1.07853630e+04, -1.66620427e+04, -6.11651941e+03, -2.61889869e+03,\n",
              "        -1.20085631e+04, -4.19442898e+03, -5.56752519e+03, -4.24645998e+03,\n",
              "        -4.35959749e+03, -1.03431990e+04, -2.51261064e+03, -6.31783509e+03,\n",
              "        -8.30826920e+03, -1.50145020e+04, -1.58224527e+03, -8.29900132e+03,\n",
              "         4.65197634e+03,  2.64452532e+04, -1.06648802e+04,  1.12649946e+04,\n",
              "        -7.27595761e-12, -1.37809228e+04, -1.03558555e+04,  1.74352254e+03,\n",
              "        -4.86562584e+03, -3.87841215e+03,  2.85826761e+03, -9.01448689e+03,\n",
              "        -1.34257852e+04, -7.85339254e+03, -1.85074756e+03,  8.05703752e+02,\n",
              "        -5.33465741e+02,  1.61442048e+02,  2.91120293e+03, -9.83411712e+03,\n",
              "         1.90674313e+03, -5.06891194e+03,  2.65181043e+03,  1.15736928e+02,\n",
              "        -1.18868665e+03, -3.16961071e+03, -8.21620437e+03,  1.91502145e+02,\n",
              "         7.10594059e+03, -5.99022828e+03, -2.21296584e+03, -1.33718949e+03,\n",
              "        -4.69023890e+03,  8.22085408e+02, -1.60428858e+03, -7.57444925e+03,\n",
              "        -1.80192385e+03, -3.63797881e-12, -1.36367710e+03, -1.81898940e-11,\n",
              "        -1.98582833e+04, -1.40198092e+04, -1.61836706e+03,  1.45519152e-11,\n",
              "        -2.02915087e+03, -1.63709046e-11, -2.27373675e-12, -5.29689066e+03,\n",
              "        -2.12149729e+03, -2.40370674e+03, -3.89204735e+03, -2.44166089e+02,\n",
              "        -7.61353124e+03,  5.16459680e+04,  8.12187319e+03,  4.05832840e+03,\n",
              "        -1.02715083e+04, -4.65815641e+02, -2.27391927e+03, -3.66301226e+03,\n",
              "        -2.04583063e+03,  9.81352370e+03, -3.10809441e+03, -1.26296398e+03,\n",
              "         1.18130930e+04, -7.54051063e+03, -3.76651187e+03, -2.10233727e+03,\n",
              "         1.80719573e+03,  1.88062738e+04,  6.83922973e+04, -1.21541087e+03,\n",
              "         1.19653760e+04,  3.43055560e+04, -1.13599198e+04, -6.35070661e+03,\n",
              "         8.90238189e+03, -7.78889063e+03,  1.41644012e+03, -3.13091170e+03,\n",
              "         1.93702222e+03,  5.46158874e+03, -3.34765751e+03, -5.25767427e+03,\n",
              "         4.52344898e+03,  9.16849700e+03,  6.89727467e+03,  2.45757886e+02,\n",
              "         3.64307143e+03,  4.48369294e+03, -1.00675700e+04, -8.36770646e+03,\n",
              "        -3.73522287e+03,  6.76483010e+02,  1.76965247e+03, -5.13944342e+03,\n",
              "        -1.69386942e+04, -5.98272804e+03,  4.10979330e+04, -2.23406705e+03,\n",
              "         2.44955384e+04,  4.90891529e+03,  1.11106513e+04,  1.50931495e+04,\n",
              "         4.99218227e+03,  1.66181102e+04, -2.97767848e+03, -4.28063112e+03,\n",
              "        -2.01083395e+03,  1.01352197e+04, -1.19948031e+04, -6.04592716e+03,\n",
              "        -4.00971394e+03,  1.26153722e+04,  0.00000000e+00, -3.05403092e+03,\n",
              "        -1.35294663e+04,  1.75225601e+03, -4.65734829e+03,  1.37799899e+04,\n",
              "         4.44336741e+02, -1.16351703e+04, -1.02436241e+04,  2.45939176e+01,\n",
              "         1.53597632e+04, -1.05748453e+04,  1.72108976e+03,  3.83443150e+04,\n",
              "         1.77840699e+03, -7.64411907e+03, -3.63146034e+03,  4.97009656e+03,\n",
              "         4.28526998e+03, -1.25894021e+04, -8.83958091e+03,  1.17921263e+04,\n",
              "         1.12618831e+02,  2.88715445e+04,  2.61784834e+04, -1.84970132e+03,\n",
              "        -1.00776925e+03, -6.32433505e+01,  5.89498996e+03, -5.87388603e+03,\n",
              "         3.91997206e+03, -8.60192903e+03, -8.05185253e+03, -7.25642763e+03,\n",
              "         0.00000000e+00,  7.96536817e+03,  1.59857490e+03, -1.81963464e+04,\n",
              "        -3.23318425e+03, -4.19627555e+03, -3.46959636e+03, -1.44578238e+04,\n",
              "        -6.24545253e+03, -1.47058108e+04, -6.04222486e+03, -2.47805908e+03,\n",
              "        -1.35334545e+03, -5.47357868e+03,  2.16952503e+02,  9.43576305e+02,\n",
              "        -4.12261107e+02,  2.38072941e+03,  3.30174761e+03,  4.05699304e+03,\n",
              "         5.34743832e+03,  5.67125819e+03,  7.89120463e+03,  9.64939491e+03,\n",
              "         1.02549454e+04,  1.81223769e+04,  1.24273416e+04,  4.08381177e+02,\n",
              "         6.46318468e+02,  2.37424174e+03,  2.25028280e+03,  3.62913721e+02,\n",
              "        -1.67914396e+03, -3.79274366e+03, -9.27697994e+03,  1.73042979e+02,\n",
              "        -2.57334045e+02,  2.35114844e+03, -2.53002949e+03,  3.60153327e+02,\n",
              "         8.60974843e+03, -1.98320789e+03, -8.52905937e+02, -3.33704370e+02,\n",
              "         1.87672617e+02, -1.18208480e+03, -4.01670690e+03,  1.17921263e+04,\n",
              "         8.87072497e+02, -1.93424129e+03,  3.48190692e+03, -6.04592716e+03]),\n",
              " 'rank_': 337,\n",
              " 'singular_': array([6.11737713e+01, 4.15500360e+01, 3.40302552e+01, 2.61943950e+01,\n",
              "        2.40163609e+01, 2.15350725e+01, 2.09552796e+01, 1.79521007e+01,\n",
              "        1.74125125e+01, 1.67189283e+01, 1.56905314e+01, 1.51692396e+01,\n",
              "        1.43495640e+01, 1.41577687e+01, 1.38722468e+01, 1.31646555e+01,\n",
              "        1.26341551e+01, 1.24096478e+01, 1.19539176e+01, 1.18243821e+01,\n",
              "        1.11806107e+01, 1.06916585e+01, 1.06054056e+01, 1.04173667e+01,\n",
              "        1.00220503e+01, 9.98710550e+00, 9.91650482e+00, 9.68304437e+00,\n",
              "        9.54735140e+00, 9.09888991e+00, 8.67108607e+00, 8.50486885e+00,\n",
              "        8.49676661e+00, 7.85243601e+00, 7.50572372e+00, 7.25203798e+00,\n",
              "        7.13828605e+00, 7.04690530e+00, 6.93410594e+00, 6.79369923e+00,\n",
              "        6.70924666e+00, 6.39006295e+00, 6.18033216e+00, 6.06524343e+00,\n",
              "        5.92111843e+00, 5.81961900e+00, 5.68282077e+00, 5.58284146e+00,\n",
              "        5.56112726e+00, 5.51070745e+00, 5.34454917e+00, 5.26563704e+00,\n",
              "        5.21848881e+00, 5.16416228e+00, 5.12693687e+00, 5.11412104e+00,\n",
              "        5.06716239e+00, 5.00222380e+00, 4.94303713e+00, 4.90218482e+00,\n",
              "        4.88457155e+00, 4.83719971e+00, 4.76846992e+00, 4.73271441e+00,\n",
              "        4.70514585e+00, 4.64751811e+00, 4.59735403e+00, 4.55705946e+00,\n",
              "        4.52556225e+00, 4.50611426e+00, 4.44673578e+00, 4.40544936e+00,\n",
              "        4.39716867e+00, 4.30508689e+00, 4.25438783e+00, 4.17302097e+00,\n",
              "        4.16016610e+00, 4.12621866e+00, 4.02951694e+00, 3.99908869e+00,\n",
              "        3.95612195e+00, 3.86266821e+00, 3.80820783e+00, 3.76097140e+00,\n",
              "        3.73563951e+00, 3.65433736e+00, 3.60845451e+00, 3.59546694e+00,\n",
              "        3.56169917e+00, 3.53873124e+00, 3.51664986e+00, 3.49418274e+00,\n",
              "        3.46064786e+00, 3.40807923e+00, 3.37930384e+00, 3.36702488e+00,\n",
              "        3.35456541e+00, 3.32447926e+00, 3.31047716e+00, 3.25625604e+00,\n",
              "        3.23883039e+00, 3.22160278e+00, 3.21009992e+00, 3.19008006e+00,\n",
              "        3.17957704e+00, 3.16591339e+00, 3.13578035e+00, 3.08724074e+00,\n",
              "        3.07428928e+00, 3.03103148e+00, 3.01479429e+00, 2.99620787e+00,\n",
              "        2.95836553e+00, 2.95371374e+00, 2.93643224e+00, 2.92176786e+00,\n",
              "        2.91302941e+00, 2.90443256e+00, 2.88822471e+00, 2.87090924e+00,\n",
              "        2.86483541e+00, 2.80267957e+00, 2.78477476e+00, 2.75068413e+00,\n",
              "        2.72310453e+00, 2.70136313e+00, 2.68800753e+00, 2.67098334e+00,\n",
              "        2.64898480e+00, 2.62167236e+00, 2.61356490e+00, 2.58436957e+00,\n",
              "        2.57337866e+00, 2.54912319e+00, 2.53326811e+00, 2.51406682e+00,\n",
              "        2.49116669e+00, 2.48616484e+00, 2.43777330e+00, 2.42527493e+00,\n",
              "        2.40861949e+00, 2.39201021e+00, 2.36201660e+00, 2.35114549e+00,\n",
              "        2.33760827e+00, 2.32845772e+00, 2.32455083e+00, 2.30981008e+00,\n",
              "        2.30699695e+00, 2.29692084e+00, 2.29193686e+00, 2.26584933e+00,\n",
              "        2.22504875e+00, 2.22165310e+00, 2.21647461e+00, 2.21042332e+00,\n",
              "        2.19235141e+00, 2.18233887e+00, 2.14348758e+00, 2.13025425e+00,\n",
              "        2.12627903e+00, 2.09087636e+00, 2.09013588e+00, 2.08442709e+00,\n",
              "        2.07412940e+00, 2.06984754e+00, 2.05880015e+00, 2.05138935e+00,\n",
              "        2.04282535e+00, 2.02969296e+00, 2.00102746e+00, 1.98953373e+00,\n",
              "        1.97250312e+00, 1.96948665e+00, 1.94160050e+00, 1.92906831e+00,\n",
              "        1.90074675e+00, 1.86434853e+00, 1.83957433e+00, 1.82846747e+00,\n",
              "        1.81892307e+00, 1.81525804e+00, 1.81170570e+00, 1.80868449e+00,\n",
              "        1.80292457e+00, 1.80093194e+00, 1.79571079e+00, 1.79308516e+00,\n",
              "        1.79152366e+00, 1.77885560e+00, 1.77652971e+00, 1.76366758e+00,\n",
              "        1.72084153e+00, 1.71064255e+00, 1.70137869e+00, 1.69822476e+00,\n",
              "        1.68618174e+00, 1.66390816e+00, 1.65808955e+00, 1.63994329e+00,\n",
              "        1.62186487e+00, 1.59181965e+00, 1.58487300e+00, 1.57154687e+00,\n",
              "        1.56539105e+00, 1.56126920e+00, 1.55805694e+00, 1.55541073e+00,\n",
              "        1.54314292e+00, 1.53985316e+00, 1.53295315e+00, 1.52357540e+00,\n",
              "        1.51587490e+00, 1.51027861e+00, 1.50201584e+00, 1.49752282e+00,\n",
              "        1.49525809e+00, 1.48506711e+00, 1.47637179e+00, 1.45896667e+00,\n",
              "        1.44732211e+00, 1.43024349e+00, 1.41416267e+00, 1.41407227e+00,\n",
              "        1.41371663e+00, 1.41311762e+00, 1.41294536e+00, 1.41223402e+00,\n",
              "        1.41153217e+00, 1.41048081e+00, 1.40816066e+00, 1.40764394e+00,\n",
              "        1.40631498e+00, 1.40529084e+00, 1.40080229e+00, 1.39730879e+00,\n",
              "        1.39605886e+00, 1.39322849e+00, 1.38734506e+00, 1.38519924e+00,\n",
              "        1.38325169e+00, 1.37878270e+00, 1.37519504e+00, 1.37331013e+00,\n",
              "        1.36962655e+00, 1.34991862e+00, 1.31009770e+00, 1.30001322e+00,\n",
              "        1.29800840e+00, 1.29371968e+00, 1.28001602e+00, 1.26335604e+00,\n",
              "        1.21299377e+00, 1.19724634e+00, 1.19158090e+00, 1.17788413e+00,\n",
              "        1.16874571e+00, 1.15304413e+00, 1.14644020e+00, 1.14396456e+00,\n",
              "        1.13441359e+00, 1.13151589e+00, 1.11864995e+00, 1.11645934e+00,\n",
              "        1.11177487e+00, 1.11059999e+00, 1.10834412e+00, 1.10296870e+00,\n",
              "        1.10004058e+00, 1.09079089e+00, 1.07952922e+00, 1.07873455e+00,\n",
              "        1.07666305e+00, 1.07507935e+00, 1.07064817e+00, 1.06893702e+00,\n",
              "        1.06529435e+00, 1.05587425e+00, 1.05392601e+00, 1.04749541e+00,\n",
              "        1.04346756e+00, 1.03656525e+00, 1.03069818e+00, 1.02395872e+00,\n",
              "        1.00026060e+00, 1.00000000e+00, 1.00000000e+00, 1.00000000e+00,\n",
              "        1.00000000e+00, 1.00000000e+00, 1.00000000e+00, 1.00000000e+00,\n",
              "        1.00000000e+00, 1.00000000e+00, 1.00000000e+00, 1.00000000e+00,\n",
              "        1.00000000e+00, 1.00000000e+00, 1.00000000e+00, 1.00000000e+00,\n",
              "        9.99767988e-01, 9.98677292e-01, 9.98375182e-01, 9.97978852e-01,\n",
              "        9.97242901e-01, 9.96429143e-01, 9.95128782e-01, 9.94006540e-01,\n",
              "        9.93183960e-01, 9.92776264e-01, 9.90135868e-01, 9.89768841e-01,\n",
              "        9.88824056e-01, 9.87573835e-01, 9.86542239e-01, 9.84635477e-01,\n",
              "        9.82860865e-01, 9.75088495e-01, 9.72479734e-01, 9.70979480e-01,\n",
              "        9.66442415e-01, 9.62851599e-01, 9.55270117e-01, 9.51546104e-01,\n",
              "        9.39685805e-01, 9.33361403e-01, 9.22874325e-01, 8.89771612e-01,\n",
              "        8.79502099e-01, 8.63700501e-01, 8.42783908e-01, 8.29258182e-01,\n",
              "        7.42869773e-01, 7.27343958e-01, 6.05061715e-01, 6.00558380e-01,\n",
              "        2.87674092e-01, 1.09884153e-14, 6.06999752e-15, 5.27896037e-15,\n",
              "        5.13381545e-15, 5.13381545e-15, 5.13381545e-15, 5.13381545e-15,\n",
              "        5.13381545e-15, 5.13381545e-15, 5.13381545e-15, 5.13381545e-15,\n",
              "        5.13381545e-15, 5.13381545e-15, 5.13381545e-15, 5.13381545e-15,\n",
              "        5.13381545e-15, 5.13381545e-15, 5.13381545e-15, 5.13381545e-15,\n",
              "        5.13381545e-15, 5.13381545e-15, 5.13381545e-15, 5.13381545e-15,\n",
              "        5.13381545e-15, 5.13381545e-15, 5.13381545e-15, 5.13381545e-15,\n",
              "        5.13381545e-15, 5.13381545e-15, 5.13381545e-15, 5.13381545e-15,\n",
              "        5.13381545e-15, 5.13381545e-15, 5.13381545e-15, 5.13381545e-15,\n",
              "        5.13381545e-15, 5.13381545e-15, 5.13381545e-15, 5.13381545e-15,\n",
              "        5.13381545e-15, 5.13381545e-15, 5.13381545e-15, 5.13381545e-15,\n",
              "        5.13381545e-15, 5.13381545e-15, 5.13381545e-15, 5.13381545e-15,\n",
              "        5.13381545e-15, 5.13381545e-15, 5.13381545e-15, 5.13381545e-15,\n",
              "        5.13381545e-15, 5.13381545e-15, 5.13381545e-15, 5.13381545e-15,\n",
              "        5.13381545e-15, 5.13381545e-15, 5.13381545e-15, 4.80596283e-15,\n",
              "        3.91191320e-15, 3.13742633e-15, 3.04052664e-15, 2.48957618e-15,\n",
              "        2.45942096e-15, 1.82450650e-15, 1.13607711e-15, 4.32228321e-16]),\n",
              " 'intercept_': 28414.24581753184}"
            ]
          },
          "execution_count": 54,
          "metadata": {},
          "output_type": "execute_result"
        }
      ],
      "source": [
        "model.__dict__"
      ]
    },
    {
      "cell_type": "code",
      "execution_count": 55,
      "metadata": {
        "id": "tTECOmLR_RL4"
      },
      "outputs": [],
      "source": [
        "a = model.coef_"
      ]
    },
    {
      "cell_type": "code",
      "execution_count": 56,
      "metadata": {
        "id": "YpewD8fe_VSR"
      },
      "outputs": [],
      "source": [
        "b = model.intercept_"
      ]
    },
    {
      "cell_type": "code",
      "execution_count": 57,
      "metadata": {
        "id": "BjF_43PAA9Db"
      },
      "outputs": [],
      "source": [
        "colunas = df_carros_encoded.drop(['price'], axis=1).columns.tolist()"
      ]
    },
    {
      "cell_type": "markdown",
      "metadata": {
        "id": "W2wY8t2g_ufC"
      },
      "source": [
        "## Escolha os dados do veículo em questão, os dados devem ser em letra minúscula, **lembre-se de consultar o material adicional para saber quais veículos, anos e cores podem ser utilizadas nesse modelo de predição.**"
      ]
    },
    {
      "cell_type": "code",
      "execution_count": 58,
      "metadata": {
        "colab": {
          "base_uri": "https://localhost:8080/"
        },
        "id": "6KnXd91fd0ct",
        "outputId": "c5fdbc45-16c5-45a9-a598-291a73dddcca"
      },
      "outputs": [],
      "source": [
        "montadora = input('Qual a montadora do seu carro? ')\n",
        "carro = input('Qual o modelo do veículo? ')\n",
        "milhas = input('Quantas milhas tem seu veículo? ')\n",
        "ano = input('Qual o ano do veículo? ')\n",
        "acidentes_reportados = input('Quantos acidentes foram reportados? ')\n",
        "donos = input('Quantos donos ja possuíram o veículo? ')\n",
        "cor_interior = input('Qual a cor do interior do veículo? ')\n",
        "cor_exterior = input('Qual a cor exterior do veículo? ')\n",
        "\n",
        "nome_montadora = 'montadora_'+ montadora\n",
        "nome_carro = 'nome_'+carro\n",
        "cor_i = 'color_interior_'+ cor_interior\n",
        "cor_e = 'color_exterior_'+ cor_exterior\n",
        "ano = 'year_'+str(ano)\n",
        "donos = int((int(donos) - donos_media)/donos_desvio_padrao)\n",
        "acidentes = int((int(acidentes_reportados) - acidentes_media)/acidentes_desvio_padrao)\n",
        "milhas = int((int(milhas) - milhas_media)/milhas_desvio_padrao)\n",
        "\n",
        "\n",
        "carro = {\n",
        "    'miles':milhas,\n",
        "    'accidents_reported':acidentes,\n",
        "    'owners':donos,\n",
        "    nome_montadora:int(1),\n",
        "    nome_carro:int(1),\n",
        "    ano: int(1),\n",
        "    cor_i:int(1),\n",
        "    cor_e:int(1),\n",
        "}\n"
      ]
    },
    {
      "cell_type": "code",
      "execution_count": 59,
      "metadata": {
        "id": "QlQkwMQ1-MKw"
      },
      "outputs": [],
      "source": [
        "carro_novo = []\n",
        "\n",
        "for chave in colunas:\n",
        "    if chave in carro:\n",
        "        carro_novo.append(carro[chave])\n",
        "    else:\n",
        "        carro_novo.append(int(0))"
      ]
    },
    {
      "cell_type": "code",
      "execution_count": 60,
      "metadata": {
        "id": "2dydJv9z-jnJ"
      },
      "outputs": [],
      "source": [
        "new_car = np.array([carro_novo])"
      ]
    },
    {
      "cell_type": "code",
      "execution_count": 61,
      "metadata": {
        "colab": {
          "base_uri": "https://localhost:8080/"
        },
        "id": "slAv16fS_SQc",
        "outputId": "fa06f69c-626e-4482-c802-cc43dbd3be39"
      },
      "outputs": [
        {
          "name": "stderr",
          "output_type": "stream",
          "text": [
            "c:\\Users\\sonia\\AppData\\Local\\Programs\\Python\\Python310\\lib\\site-packages\\sklearn\\base.py:493: UserWarning: X does not have valid feature names, but LinearRegression was fitted with feature names\n",
            "  warnings.warn(\n"
          ]
        }
      ],
      "source": [
        "valor = model.predict(new_car.reshape(1, -1)).round(2)"
      ]
    },
    {
      "cell_type": "markdown",
      "metadata": {
        "id": "3M2oziso_gfp"
      },
      "source": [
        "# Abaixo segue o valor predito do veículo de acordo com os parâmetros que foram passados\n"
      ]
    },
    {
      "cell_type": "code",
      "execution_count": 62,
      "metadata": {
        "colab": {
          "base_uri": "https://localhost:8080/"
        },
        "id": "4ba-FOc3_YxX",
        "outputId": "5ef157b8-9ced-4bc6-cc76-a43190c2eda9"
      },
      "outputs": [
        {
          "name": "stdout",
          "output_type": "stream",
          "text": [
            "O valor do seu carro é: $45970.35\n"
          ]
        }
      ],
      "source": [
        "print('O valor do seu carro é: $'+str(valor[0]))"
      ]
    },
    {
      "cell_type": "code",
      "execution_count": 63,
      "metadata": {
        "id": "6rnBKNjkBHG7"
      },
      "outputs": [],
      "source": [
        "from sklearn.metrics import mean_squared_error"
      ]
    },
    {
      "cell_type": "code",
      "execution_count": 64,
      "metadata": {
        "id": "Pv65BtjGA-zL"
      },
      "outputs": [],
      "source": [
        "target_predicted = model.predict(predictors_test)"
      ]
    },
    {
      "cell_type": "code",
      "execution_count": 65,
      "metadata": {
        "id": "qKGlxP-pBAWA"
      },
      "outputs": [],
      "source": [
        "rmse_v2 = np.sqrt(mean_squared_error(target_test, target_predicted))\n",
        "#print(rmse_v2)"
      ]
    }
  ],
  "metadata": {
    "colab": {
      "provenance": []
    },
    "kernelspec": {
      "display_name": "Python 3",
      "name": "python3"
    },
    "language_info": {
      "codemirror_mode": {
        "name": "ipython",
        "version": 3
      },
      "file_extension": ".py",
      "mimetype": "text/x-python",
      "name": "python",
      "nbconvert_exporter": "python",
      "pygments_lexer": "ipython3",
      "version": "3.10.7"
    }
  },
  "nbformat": 4,
  "nbformat_minor": 0
}
